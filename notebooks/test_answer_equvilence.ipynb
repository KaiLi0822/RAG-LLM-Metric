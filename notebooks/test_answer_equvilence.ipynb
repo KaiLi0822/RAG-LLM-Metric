{
 "cells": [
  {
   "cell_type": "code",
   "execution_count": 1,
   "metadata": {},
   "outputs": [],
   "source": [
    "import sys\n",
    "sys.path.append(\"..\")\n",
    "\n",
    "from utils.llm import OpenAIClientLLM\n",
    "from evaluator.prompt_manager import EvalPromptManager\n",
    "from evaluator.evaluators import AnswerEquivalenceEvaluator"
   ]
  },
  {
   "cell_type": "code",
   "execution_count": 2,
   "metadata": {},
   "outputs": [
    {
     "data": {
      "text/plain": [
       "True"
      ]
     },
     "execution_count": 2,
     "metadata": {},
     "output_type": "execute_result"
    }
   ],
   "source": [
    "from dotenv import load_dotenv\n",
    "load_dotenv()"
   ]
  },
  {
   "cell_type": "code",
   "execution_count": 3,
   "metadata": {},
   "outputs": [
    {
     "data": {
      "text/plain": [
       "{'equivalence': 0,\n",
       " 'raw_output': {'Q1': 'yes',\n",
       "  'Q2': 'no',\n",
       "  'Q3': 'yes',\n",
       "  'Q4': 'yes',\n",
       "  'reasons': \"The second answer contradicts the first answer by stating the Great Wall of China is located in southern China, instead of northern China. It also provides an incorrect length of the wall (15,000 miles instead of 13,170 miles), removing the important detail about the variety of materials used in its construction and the Ming Dynasty's involvement, while adding potentially misleading information about its location and length.\"}}"
      ]
     },
     "execution_count": 3,
     "metadata": {},
     "output_type": "execute_result"
    }
   ],
   "source": [
    "evaluator = AnswerEquivalenceEvaluator(\n",
    "    llm=OpenAIClientLLM(),\n",
    "    prompt_manager=EvalPromptManager()\n",
    ")\n",
    "\n",
    "result = evaluator.evaluate(\n",
    "    answer=\"The Great Wall of China is located in southern China. It was built to protect against nomadic invasions and stretches over 15,000 miles.\",\n",
    "    context = \"\"\"The Great Wall of China is a historical fortification primarily located in northern China, not southern China. It was built by various Chinese dynasties, with the most well-known sections constructed during the Ming Dynasty (1368–1644). The primary purpose of the wall was to protect against invasions and raids from nomadic groups, such as the Mongols and Xiongnu, from the north.\n",
    "\n",
    "The wall stretches approximately 13,170 miles (21,196 kilometers), including all its branches and sections, rather than 15,000 miles. Its construction involved millions of laborers and used a variety of materials, such as tamped earth, wood, bricks, and stone, depending on the region.\"\"\",\n",
    "    golden_answer=\"The Great Wall of China is located in northern China. It was originally built to protect against invasions and raids from nomadic groups and stretches over 13,000 miles.\"\n",
    ")\n",
    "result"
   ]
  },
  {
   "cell_type": "code",
   "execution_count": null,
   "metadata": {},
   "outputs": [],
   "source": []
  }
 ],
 "metadata": {
  "kernelspec": {
   "display_name": ".venv",
   "language": "python",
   "name": "python3"
  },
  "language_info": {
   "codemirror_mode": {
    "name": "ipython",
    "version": 3
   },
   "file_extension": ".py",
   "mimetype": "text/x-python",
   "name": "python",
   "nbconvert_exporter": "python",
   "pygments_lexer": "ipython3",
   "version": "3.11.4"
  }
 },
 "nbformat": 4,
 "nbformat_minor": 2
}
