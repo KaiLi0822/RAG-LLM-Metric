{
 "cells": [
  {
   "cell_type": "code",
   "execution_count": null,
   "metadata": {
    "id": "QXPU-ds4VWJW",
    "outputId": "88c5f041-369d-4cf0-ba9c-197279b2692e"
   },
   "outputs": [
    {
     "name": "stderr",
     "output_type": "stream",
     "text": [
      "huggingface/tokenizers: The current process just got forked, after parallelism has already been used. Disabling parallelism to avoid deadlocks...\n",
      "To disable this warning, you can either:\n",
      "\t- Avoid using `tokenizers` before the fork if possible\n",
      "\t- Explicitly set the environment variable TOKENIZERS_PARALLELISM=(true | false)\n"
     ]
    },
    {
     "name": "stdout",
     "output_type": "stream",
     "text": [
      "Requirement already satisfied: sentence-transformers in /Users/yao/Documents/NEU/capstone/projectcode/RAG-LLM-Metric/.venv/lib/python3.12/site-packages (3.4.1)\n",
      "Requirement already satisfied: transformers<5.0.0,>=4.41.0 in /Users/yao/Documents/NEU/capstone/projectcode/RAG-LLM-Metric/.venv/lib/python3.12/site-packages (from sentence-transformers) (4.48.3)\n",
      "Requirement already satisfied: tqdm in /Users/yao/Documents/NEU/capstone/projectcode/RAG-LLM-Metric/.venv/lib/python3.12/site-packages (from sentence-transformers) (4.67.1)\n",
      "Requirement already satisfied: torch>=1.11.0 in /Users/yao/Documents/NEU/capstone/projectcode/RAG-LLM-Metric/.venv/lib/python3.12/site-packages (from sentence-transformers) (2.6.0)\n",
      "Requirement already satisfied: scikit-learn in /Users/yao/Documents/NEU/capstone/projectcode/RAG-LLM-Metric/.venv/lib/python3.12/site-packages (from sentence-transformers) (1.6.1)\n",
      "Requirement already satisfied: scipy in /Users/yao/Documents/NEU/capstone/projectcode/RAG-LLM-Metric/.venv/lib/python3.12/site-packages (from sentence-transformers) (1.15.1)\n",
      "Requirement already satisfied: huggingface-hub>=0.20.0 in /Users/yao/Documents/NEU/capstone/projectcode/RAG-LLM-Metric/.venv/lib/python3.12/site-packages (from sentence-transformers) (0.28.1)\n",
      "Requirement already satisfied: Pillow in /Users/yao/Documents/NEU/capstone/projectcode/RAG-LLM-Metric/.venv/lib/python3.12/site-packages (from sentence-transformers) (11.1.0)\n",
      "Requirement already satisfied: filelock in /Users/yao/Documents/NEU/capstone/projectcode/RAG-LLM-Metric/.venv/lib/python3.12/site-packages (from huggingface-hub>=0.20.0->sentence-transformers) (3.16.1)\n",
      "Requirement already satisfied: fsspec>=2023.5.0 in /Users/yao/Documents/NEU/capstone/projectcode/RAG-LLM-Metric/.venv/lib/python3.12/site-packages (from huggingface-hub>=0.20.0->sentence-transformers) (2024.6.1)\n",
      "Requirement already satisfied: packaging>=20.9 in /Users/yao/Documents/NEU/capstone/projectcode/RAG-LLM-Metric/.venv/lib/python3.12/site-packages (from huggingface-hub>=0.20.0->sentence-transformers) (24.2)\n",
      "Requirement already satisfied: pyyaml>=5.1 in /Users/yao/Documents/NEU/capstone/projectcode/RAG-LLM-Metric/.venv/lib/python3.12/site-packages (from huggingface-hub>=0.20.0->sentence-transformers) (6.0.2)\n",
      "Requirement already satisfied: requests in /Users/yao/Documents/NEU/capstone/projectcode/RAG-LLM-Metric/.venv/lib/python3.12/site-packages (from huggingface-hub>=0.20.0->sentence-transformers) (2.32.3)\n",
      "Requirement already satisfied: typing-extensions>=3.7.4.3 in /Users/yao/Documents/NEU/capstone/projectcode/RAG-LLM-Metric/.venv/lib/python3.12/site-packages (from huggingface-hub>=0.20.0->sentence-transformers) (4.12.2)\n",
      "Requirement already satisfied: networkx in /Users/yao/Documents/NEU/capstone/projectcode/RAG-LLM-Metric/.venv/lib/python3.12/site-packages (from torch>=1.11.0->sentence-transformers) (3.4.2)\n",
      "Requirement already satisfied: jinja2 in /Users/yao/Documents/NEU/capstone/projectcode/RAG-LLM-Metric/.venv/lib/python3.12/site-packages (from torch>=1.11.0->sentence-transformers) (3.1.5)\n",
      "Requirement already satisfied: setuptools in /Users/yao/Documents/NEU/capstone/projectcode/RAG-LLM-Metric/.venv/lib/python3.12/site-packages (from torch>=1.11.0->sentence-transformers) (75.8.0)\n",
      "Requirement already satisfied: sympy==1.13.1 in /Users/yao/Documents/NEU/capstone/projectcode/RAG-LLM-Metric/.venv/lib/python3.12/site-packages (from torch>=1.11.0->sentence-transformers) (1.13.1)\n",
      "Requirement already satisfied: mpmath<1.4,>=1.1.0 in /Users/yao/Documents/NEU/capstone/projectcode/RAG-LLM-Metric/.venv/lib/python3.12/site-packages (from sympy==1.13.1->torch>=1.11.0->sentence-transformers) (1.3.0)\n",
      "Requirement already satisfied: numpy>=1.17 in /Users/yao/Documents/NEU/capstone/projectcode/RAG-LLM-Metric/.venv/lib/python3.12/site-packages (from transformers<5.0.0,>=4.41.0->sentence-transformers) (2.2.2)\n",
      "Requirement already satisfied: regex!=2019.12.17 in /Users/yao/Documents/NEU/capstone/projectcode/RAG-LLM-Metric/.venv/lib/python3.12/site-packages (from transformers<5.0.0,>=4.41.0->sentence-transformers) (2024.11.6)\n",
      "Requirement already satisfied: tokenizers<0.22,>=0.21 in /Users/yao/Documents/NEU/capstone/projectcode/RAG-LLM-Metric/.venv/lib/python3.12/site-packages (from transformers<5.0.0,>=4.41.0->sentence-transformers) (0.21.0)\n",
      "Requirement already satisfied: safetensors>=0.4.1 in /Users/yao/Documents/NEU/capstone/projectcode/RAG-LLM-Metric/.venv/lib/python3.12/site-packages (from transformers<5.0.0,>=4.41.0->sentence-transformers) (0.5.2)\n",
      "Requirement already satisfied: joblib>=1.2.0 in /Users/yao/Documents/NEU/capstone/projectcode/RAG-LLM-Metric/.venv/lib/python3.12/site-packages (from scikit-learn->sentence-transformers) (1.4.2)\n",
      "Requirement already satisfied: threadpoolctl>=3.1.0 in /Users/yao/Documents/NEU/capstone/projectcode/RAG-LLM-Metric/.venv/lib/python3.12/site-packages (from scikit-learn->sentence-transformers) (3.5.0)\n",
      "Requirement already satisfied: MarkupSafe>=2.0 in /Users/yao/Documents/NEU/capstone/projectcode/RAG-LLM-Metric/.venv/lib/python3.12/site-packages (from jinja2->torch>=1.11.0->sentence-transformers) (3.0.2)\n",
      "Requirement already satisfied: charset-normalizer<4,>=2 in /Users/yao/Documents/NEU/capstone/projectcode/RAG-LLM-Metric/.venv/lib/python3.12/site-packages (from requests->huggingface-hub>=0.20.0->sentence-transformers) (3.4.1)\n",
      "Requirement already satisfied: idna<4,>=2.5 in /Users/yao/Documents/NEU/capstone/projectcode/RAG-LLM-Metric/.venv/lib/python3.12/site-packages (from requests->huggingface-hub>=0.20.0->sentence-transformers) (3.10)\n",
      "Requirement already satisfied: urllib3<3,>=1.21.1 in /Users/yao/Documents/NEU/capstone/projectcode/RAG-LLM-Metric/.venv/lib/python3.12/site-packages (from requests->huggingface-hub>=0.20.0->sentence-transformers) (2.2.3)\n",
      "Requirement already satisfied: certifi>=2017.4.17 in /Users/yao/Documents/NEU/capstone/projectcode/RAG-LLM-Metric/.venv/lib/python3.12/site-packages (from requests->huggingface-hub>=0.20.0->sentence-transformers) (2025.1.31)\n",
      "Note: you may need to restart the kernel to use updated packages.\n"
     ]
    },
    {
     "name": "stderr",
     "output_type": "stream",
     "text": [
      "huggingface/tokenizers: The current process just got forked, after parallelism has already been used. Disabling parallelism to avoid deadlocks...\n",
      "To disable this warning, you can either:\n",
      "\t- Avoid using `tokenizers` before the fork if possible\n",
      "\t- Explicitly set the environment variable TOKENIZERS_PARALLELISM=(true | false)\n"
     ]
    },
    {
     "name": "stdout",
     "output_type": "stream",
     "text": [
      "Requirement already satisfied: python-dotenv in /Users/yao/Documents/NEU/capstone/projectcode/RAG-LLM-Metric/.venv/lib/python3.12/site-packages (1.0.1)\n",
      "Note: you may need to restart the kernel to use updated packages.\n"
     ]
    }
   ],
   "source": [
    "%pip install sentence-transformers\n",
    "%pip install python-dotenv"
   ]
  },
  {
   "cell_type": "code",
   "execution_count": 1,
   "metadata": {
    "id": "Ju8RR6i8VWJX",
    "ExecuteTime": {
     "end_time": "2025-02-17T19:27:07.040074Z",
     "start_time": "2025-02-17T19:27:03.816023Z"
    }
   },
   "outputs": [],
   "source": [
    "import sys\n",
    "sys.path.append(\"..\")\n",
    "from evaluator.evaluators import AnswerSimilarityEvaluator"
   ]
  },
  {
   "cell_type": "code",
   "execution_count": 2,
   "metadata": {
    "id": "aWYH9qTQVWJX",
    "outputId": "fd2bb3fc-3996-4e9a-ae7f-a9b4c99228cb",
    "ExecuteTime": {
     "end_time": "2025-02-17T19:27:07.677240Z",
     "start_time": "2025-02-17T19:27:07.667994Z"
    }
   },
   "outputs": [
    {
     "data": {
      "text/plain": "True"
     },
     "execution_count": 2,
     "metadata": {},
     "output_type": "execute_result"
    }
   ],
   "source": [
    "from dotenv import load_dotenv\n",
    "load_dotenv()"
   ]
  },
  {
   "cell_type": "markdown",
   "metadata": {
    "id": "4ydQw2beVWJY"
   },
   "source": [
    "## Test: AnswerSimilarityEvaluator\n",
    "\n",
    "This metric computes the **cosine similarity** between:\n",
    "- A generated answer\n",
    "- A golden/ground-truth answer\n"
   ]
  },
  {
   "cell_type": "code",
   "execution_count": 4,
   "metadata": {
    "id": "Nw4fIo61VWJY",
    "outputId": "1fa6b1e9-43fe-42dd-a97f-775f34b8853a",
    "ExecuteTime": {
     "end_time": "2025-02-17T19:27:33.366187Z",
     "start_time": "2025-02-17T19:27:31.562442Z"
    }
   },
   "outputs": [
    {
     "name": "stdout",
     "output_type": "stream",
     "text": [
      "Answer Similarity Evaluation Result: {'answer_similarity': 0.7468465566635132}\n",
      "Similarity Score (range 0.0–1.0): 0.7468465566635132\n"
     ]
    }
   ],
   "source": [
    "# Initialize the evaluator with a local embedding model\n",
    "similarity_evaluator = AnswerSimilarityEvaluator(\n",
    "    model_name=\"sentence-transformers/all-MiniLM-L6-v2\"  # Or any other SBERT model\n",
    ")\n",
    "\n",
    "# Sample question/context, plus generated vs. golden answers\n",
    "question = \"How do I renew my Power Engineer certificate?\"\n",
    "context = (\n",
    "    \"To renew a Power Engineer certificate, applicants must submit a renewal application \"\n",
    "    \"through the official Online Services portal. The renewal process typically includes \"\n",
    "    \"paying the required fee and ensuring that all continuing education or training requirements \"\n",
    "    \"are met. Certain jurisdictions may require proof of work experience or additional coursework. \"\n",
    "    \"Applicants should check the official guidelines for specific deadlines and documentation requirements.\"\n",
    ")\n",
    "generated_answer = \"You must submit a form and pay a fee to renew your certificate every two years.\"\n",
    "golden_answer = \"A renewal application must be submitted every two years with the required fee.\"\n",
    "\n",
    "# Evaluate similarity\n",
    "similarity_result = similarity_evaluator.evaluate(\n",
    "    question=question,\n",
    "    context=context,\n",
    "    answer=generated_answer,\n",
    "    golden_answer=golden_answer\n",
    ")\n",
    "\n",
    "logger.info(\"Answer Similarity Evaluation Result:\", similarity_result)\n",
    "score = similarity_result.get(\"answer_similarity\", -1)\n",
    "logger.info(f\"Similarity Score (range 0.0–1.0): {score}\")\n"
   ]
  },
  {
   "cell_type": "code",
   "outputs": [],
   "source": [],
   "metadata": {
    "collapsed": false
   }
  }
 ],
 "metadata": {
  "colab": {
   "provenance": []
  },
  "kernelspec": {
   "display_name": ".venv",
   "language": "python",
   "name": "python3"
  },
  "language_info": {
   "codemirror_mode": {
    "name": "ipython",
    "version": 3
   },
   "file_extension": ".py",
   "mimetype": "text/x-python",
   "name": "python",
   "nbconvert_exporter": "python",
   "pygments_lexer": "ipython3",
   "version": "3.12.8"
  }
 },
 "nbformat": 4,
 "nbformat_minor": 0
}
