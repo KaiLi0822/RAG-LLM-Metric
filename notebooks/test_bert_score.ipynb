{
 "cells": [
  {
   "cell_type": "code",
   "execution_count": 1,
   "metadata": {},
   "outputs": [
    {
     "name": "stdout",
     "output_type": "stream",
     "text": [
      "vllm is not installed, Please install vllm to use fast inference feature.\n"
     ]
    }
   ],
   "source": [
    "import sys\n",
    "sys.path.append(\"..\")\n",
    "from evaluator.evaluators import BERTScoreEvaluator"
   ]
  },
  {
   "cell_type": "code",
   "execution_count": 2,
   "metadata": {},
   "outputs": [
    {
     "data": {
      "text/plain": [
       "True"
      ]
     },
     "execution_count": 2,
     "metadata": {},
     "output_type": "execute_result"
    }
   ],
   "source": [
    "from dotenv import load_dotenv\n",
    "load_dotenv()"
   ]
  },
  {
   "cell_type": "code",
   "execution_count": 3,
   "metadata": {},
   "outputs": [
    {
     "data": {
      "application/vnd.jupyter.widget-view+json": {
       "model_id": "95134889c3ba4c758befb24b87014432",
       "version_major": 2,
       "version_minor": 0
      },
      "text/plain": [
       "tokenizer_config.json:   0%|          | 0.00/48.0 [00:00<?, ?B/s]"
      ]
     },
     "metadata": {},
     "output_type": "display_data"
    },
    {
     "data": {
      "application/vnd.jupyter.widget-view+json": {
       "model_id": "28a8822c7f7342bb88dd4ef773e646ae",
       "version_major": 2,
       "version_minor": 0
      },
      "text/plain": [
       "config.json:   0%|          | 0.00/570 [00:00<?, ?B/s]"
      ]
     },
     "metadata": {},
     "output_type": "display_data"
    },
    {
     "data": {
      "application/vnd.jupyter.widget-view+json": {
       "model_id": "e1f8c27be4d542bd9cfc2b1ca198f40a",
       "version_major": 2,
       "version_minor": 0
      },
      "text/plain": [
       "vocab.txt:   0%|          | 0.00/232k [00:00<?, ?B/s]"
      ]
     },
     "metadata": {},
     "output_type": "display_data"
    },
    {
     "data": {
      "application/vnd.jupyter.widget-view+json": {
       "model_id": "76d17f052b784211a23113e5328b2e11",
       "version_major": 2,
       "version_minor": 0
      },
      "text/plain": [
       "tokenizer.json:   0%|          | 0.00/466k [00:00<?, ?B/s]"
      ]
     },
     "metadata": {},
     "output_type": "display_data"
    },
    {
     "data": {
      "application/vnd.jupyter.widget-view+json": {
       "model_id": "10385ab7998f4e9fa18f4a63a533b1bd",
       "version_major": 2,
       "version_minor": 0
      },
      "text/plain": [
       "model.safetensors:   0%|          | 0.00/440M [00:00<?, ?B/s]"
      ]
     },
     "metadata": {},
     "output_type": "display_data"
    },
    {
     "name": "stdout",
     "output_type": "stream",
     "text": [
      "BERTScore Evaluation Result: {'precision': 0.7096130847930908, 'recall': 0.7469707727432251, 'f1': 0.7278128862380981}\n",
      "Precision: 0.7096\n",
      "Recall: 0.7470\n",
      "F1 Score: 0.7278\n"
     ]
    }
   ],
   "source": [
    "\n",
    "# Initialize the BERTScore evaluator with a local embedding model\n",
    "bertscore_evaluator = BERTScoreEvaluator(model_name=\"bert-base-uncased\")\n",
    "\n",
    "# Sample question/context, plus generated vs. golden answers\n",
    "question = \"How do I renew my Power Engineer certificate?\"\n",
    "context = (\n",
    "    \"To renew a Power Engineer certificate, applicants must submit a renewal application \"\n",
    "    \"through the official Online Services portal. The renewal process typically includes \"\n",
    "    \"paying the required fee and ensuring that all continuing education or training requirements \"\n",
    "    \"are met. Certain jurisdictions may require proof of work experience or additional coursework. \"\n",
    "    \"Applicants should check the official guidelines for specific deadlines and documentation requirements.\"\n",
    ")\n",
    "generated_answer = \"You must submit a form and pay a fee to renew your certificate every two years.\"\n",
    "golden_answer = \"A renewal application must be submitted every two years with the required fee.\"\n",
    "\n",
    "# Evaluate using BERTScoreEvaluator\n",
    "bertscore_result = bertscore_evaluator.evaluate(\n",
    "    question=question, \n",
    "    context=context, \n",
    "    answer=generated_answer, \n",
    "    golden_answer=golden_answer\n",
    ")\n",
    "\n",
    "# Print the results\n",
    "print(\"BERTScore Evaluation Result:\", bertscore_result)\n",
    "print(f\"Precision: {bertscore_result.get('precision', -1):.4f}\")\n",
    "print(f\"Recall: {bertscore_result.get('recall', -1):.4f}\")\n",
    "print(f\"F1 Score: {bertscore_result.get('f1', -1):.4f}\")"
   ]
  }
 ],
 "metadata": {
  "kernelspec": {
   "display_name": "Python 3",
   "language": "python",
   "name": "python3"
  },
  "language_info": {
   "codemirror_mode": {
    "name": "ipython",
    "version": 3
   },
   "file_extension": ".py",
   "mimetype": "text/x-python",
   "name": "python",
   "nbconvert_exporter": "python",
   "pygments_lexer": "ipython3",
   "version": "3.10.14"
  },
  "orig_nbformat": 4
 },
 "nbformat": 4,
 "nbformat_minor": 2
}
