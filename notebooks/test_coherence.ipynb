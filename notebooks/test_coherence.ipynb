{
 "cells": [
  {
   "cell_type": "code",
   "execution_count": 5,
   "metadata": {
    "ExecuteTime": {
     "end_time": "2025-02-17T19:22:08.939416Z",
     "start_time": "2025-02-17T19:22:05.718692Z"
    }
   },
   "outputs": [],
   "source": [
    "import sys\n",
    "sys.path.append(\"..\")\n",
    "\n",
    "from utils.llm import OpenAIClientLLM\n",
    "from evaluator.prompt_manager import EvalPromptManager\n",
    "from evaluator.evaluators import CoherenceEvaluator"
   ]
  },
  {
   "cell_type": "code",
   "execution_count": 10,
   "metadata": {
    "ExecuteTime": {
     "end_time": "2025-02-17T19:22:12.477182Z",
     "start_time": "2025-02-17T19:22:12.466835Z"
    }
   },
   "outputs": [
    {
     "data": {
      "text/plain": [
       "True"
      ]
     },
     "execution_count": 10,
     "metadata": {},
     "output_type": "execute_result"
    }
   ],
   "source": [
    "from dotenv import load_dotenv\n",
    "load_dotenv()"
   ]
  },
  {
   "cell_type": "code",
   "execution_count": 12,
   "metadata": {
    "ExecuteTime": {
     "end_time": "2025-02-17T19:22:29.045294Z",
     "start_time": "2025-02-17T19:22:26.822290Z"
    }
   },
   "outputs": [
    {
     "data": {
      "text/plain": [
       "{'coherence_score': 0.82,\n",
       " 'strengths': ['Clear explanation', 'Simple language'],\n",
       " 'weaknesses': ['Lack of specifics', 'Repetitive phrasing']}"
      ]
     },
     "execution_count": 12,
     "metadata": {},
     "output_type": "execute_result"
    }
   ],
   "source": [
    "evaluator = CoherenceEvaluator()\n",
    "\n",
    "result = evaluator.evaluate(\n",
    "    question=\"What are the environmental impacts of deforestation?\",\n",
    "    answer=\"Deforestation significantly affects the environment by reducing biodiversity and contributing to climate change. Trees that once absorbed carbon dioxide are removed, leading to higher levels of greenhouse gases in the atmosphere. Many species lose their habitat, and soil erosion increases. The impact is widespread, and it is a major issue. Additionally, deforestation can disrupt local weather patterns. It is a serious problem.\")\n",
    "result"
   ]
  }
 ],
 "metadata": {
  "kernelspec": {
   "display_name": "base",
   "language": "python",
   "name": "python3"
  },
  "language_info": {
   "codemirror_mode": {
    "name": "ipython",
    "version": 3
   },
   "file_extension": ".py",
   "mimetype": "text/x-python",
   "name": "python",
   "nbconvert_exporter": "python",
   "pygments_lexer": "ipython3",
   "version": "3.12.4"
  }
 },
 "nbformat": 4,
 "nbformat_minor": 2
}
