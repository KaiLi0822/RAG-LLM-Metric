{
 "cells": [
  {
   "cell_type": "code",
   "execution_count": 1,
   "metadata": {
    "ExecuteTime": {
     "end_time": "2025-02-17T19:27:52.206487Z",
     "start_time": "2025-02-17T19:27:49.217741Z"
    }
   },
   "outputs": [],
   "source": [
    "import sys\n",
    "sys.path.append(\"..\")\n",
    "\n",
    "from evaluator.evaluators import ContextRelevanceEvaluator"
   ]
  },
  {
   "cell_type": "code",
   "execution_count": 2,
   "metadata": {
    "ExecuteTime": {
     "end_time": "2025-02-17T19:27:52.733622Z",
     "start_time": "2025-02-17T19:27:52.723347Z"
    }
   },
   "outputs": [
    {
     "data": {
      "text/plain": "True"
     },
     "execution_count": 2,
     "metadata": {},
     "output_type": "execute_result"
    }
   ],
   "source": [
    "from dotenv import load_dotenv\n",
    "load_dotenv()"
   ]
  },
  {
   "cell_type": "code",
   "execution_count": 3,
   "metadata": {
    "ExecuteTime": {
     "end_time": "2025-02-17T19:27:56.096563Z",
     "start_time": "2025-02-17T19:27:53.791443Z"
    }
   },
   "outputs": [
    {
     "data": {
      "text/plain": "{'relevance_score': 0.9}"
     },
     "execution_count": 3,
     "metadata": {},
     "output_type": "execute_result"
    }
   ],
   "source": [
    "evaluator = ContextRelevanceEvaluator()\n",
    "\n",
    "result = evaluator.evaluate(\n",
    "    question=\"How do I renew my Power engineer certificate\",\n",
    "    context='''\n",
    "While requirements for renewal may differ depending on your technology, applications can be submitted through your Online Services account.\n",
    "There may be additional educational requirements necessary for your renewal. Visit the renewal page specific to your technology to learn more\n",
    "'''\n",
    ")\n",
    "result"
   ]
  },
  {
   "cell_type": "code",
   "outputs": [],
   "source": [],
   "metadata": {
    "collapsed": false
   }
  }
 ],
 "metadata": {
  "kernelspec": {
   "display_name": "rag-llm-metric-GKTD7G0x-py3.11",
   "language": "python",
   "name": "python3"
  },
  "language_info": {
   "codemirror_mode": {
    "name": "ipython",
    "version": 3
   },
   "file_extension": ".py",
   "mimetype": "text/x-python",
   "name": "python",
   "nbconvert_exporter": "python",
   "pygments_lexer": "ipython3",
   "version": "3.11.9"
  }
 },
 "nbformat": 4,
 "nbformat_minor": 2
}
