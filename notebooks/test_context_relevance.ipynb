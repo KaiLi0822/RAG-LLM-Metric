{
 "cells": [
  {
   "cell_type": "code",
   "execution_count": 1,
   "metadata": {},
   "outputs": [],
   "source": [
    "import sys\n",
    "sys.path.append(\"..\")\n",
    "\n",
    "from evaluator.llm import OpenAIClientLLM\n",
    "from evaluator.prompt_manager import PromptManager\n",
    "from evaluator.evaluators import ContextRelevanceEvaluator"
   ]
  },
  {
   "cell_type": "code",
   "execution_count": 2,
   "metadata": {},
   "outputs": [
    {
     "data": {
      "text/plain": [
       "True"
      ]
     },
     "execution_count": 2,
     "metadata": {},
     "output_type": "execute_result"
    }
   ],
   "source": [
    "from dotenv import load_dotenv\n",
    "load_dotenv()"
   ]
  },
  {
   "cell_type": "code",
   "execution_count": 3,
   "metadata": {},
   "outputs": [
    {
     "name": "stdout",
     "output_type": "stream",
     "text": [
      "\n",
      "{\n",
      "  \"extracted_context\": {\n",
      "    \"relevant\": [\"While requirements for renewal may differ depending on your technology, applications can be submitted through your Online Services account.\", \"There may be additional educational requirements necessary for your renewal.\"],\n",
      "    \"irrelevant\": []\n",
      "  },\n",
      "  \"R\": 2,\n",
      "  \"IR\": 0,\n",
      "  \"fully_answerable\": false,\n",
      "  \"reasons\": [\"Context provides steps for renewal application\", \"Mentions additional educational requirements\", \"Lacks specific details for Power engineer certificate renewal\"]\n",
      "}\n",
      "\n"
     ]
    },
    {
     "data": {
      "text/plain": [
       "{'fully_answerable': 0}"
      ]
     },
     "execution_count": 3,
     "metadata": {},
     "output_type": "execute_result"
    }
   ],
   "source": [
    "evaluator = ContextRelevanceEvaluator(\n",
    "    llm=OpenAIClientLLM(),\n",
    "    prompt_manager=PromptManager()\n",
    ")\n",
    "\n",
    "result = evaluator.evaluate(\n",
    "    question=\"How do I renew my Power engineer certificate\",\n",
    "    context='''\n",
    "While requirements for renewal may differ depending on your technology, applications can be submitted through your Online Services account.\n",
    "There may be additional educational requirements necessary for your renewal. Visit the renewal page specific to your technology to learn more\n",
    "'''\n",
    ")\n",
    "result"
   ]
  }
 ],
 "metadata": {
  "kernelspec": {
   "display_name": "rag-llm-metric-GKTD7G0x-py3.11",
   "language": "python",
   "name": "python3"
  },
  "language_info": {
   "codemirror_mode": {
    "name": "ipython",
    "version": 3
   },
   "file_extension": ".py",
   "mimetype": "text/x-python",
   "name": "python",
   "nbconvert_exporter": "python",
   "pygments_lexer": "ipython3",
   "version": "3.11.9"
  }
 },
 "nbformat": 4,
 "nbformat_minor": 2
}
