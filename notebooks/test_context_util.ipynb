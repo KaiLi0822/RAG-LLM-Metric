{
 "cells": [
  {
   "cell_type": "code",
   "execution_count": 1,
   "metadata": {
    "ExecuteTime": {
     "end_time": "2025-02-17T19:28:31.051325Z",
     "start_time": "2025-02-17T19:28:27.860190Z"
    }
   },
   "outputs": [],
   "source": [
    "import sys\n",
    "sys.path.append(\"..\")\n",
    "import os\n",
    "from evaluator.evaluators import ContextUtilizationEvaluator"
   ]
  },
  {
   "cell_type": "code",
   "execution_count": 2,
   "metadata": {
    "ExecuteTime": {
     "end_time": "2025-02-17T19:28:31.816753Z",
     "start_time": "2025-02-17T19:28:31.808968Z"
    }
   },
   "outputs": [
    {
     "data": {
      "text/plain": "True"
     },
     "execution_count": 2,
     "metadata": {},
     "output_type": "execute_result"
    }
   ],
   "source": [
    "from dotenv import load_dotenv\n",
    "\n",
    "load_dotenv()\n"
   ]
  },
  {
   "cell_type": "code",
   "execution_count": 3,
   "metadata": {
    "ExecuteTime": {
     "end_time": "2025-02-17T19:28:35.167383Z",
     "start_time": "2025-02-17T19:28:32.325117Z"
    }
   },
   "outputs": [
    {
     "name": "stdout",
     "output_type": "stream",
     "text": [
      "Raw LLM response: ```json\n",
      "{\n",
      "  \"relevant_context\": [\"The Great Wall of China is located in northern China. It was built to protect against invasions from nomadic groups.\", \"The wall stretches over 13,000 miles and was initially constructed by various dynasties.\"],\n",
      "  \"irrelevant_context\": [\"Modern parts of the Great Wall are popular tourist attractions, especially near Beijing.\"],\n",
      "  \"reason\": \"The first document contains information about the location and purpose of the Great Wall, and the second document contains information about the length, which are both referenced in the answer, although with some inaccuracies. The third document does not contribute to the answer as it discusses tourism.\"\n",
      "}\n",
      "```\n",
      "Context: ['The Great Wall of China is located in northern China. It was built to protect against invasions from nomadic groups.', 'The wall stretches over 13,000 miles and was initially constructed by various dynasties.', 'Modern parts of the Great Wall are popular tourist attractions, especially near Beijing.']\n"
     ]
    },
    {
     "data": {
      "text/plain": "0.6666666666666666"
     },
     "execution_count": 3,
     "metadata": {},
     "output_type": "execute_result"
    }
   ],
   "source": [
    "evaluator = ContextUtilizationEvaluator()\n",
    "\n",
    "result = evaluator.evaluate(\n",
    "    answer=\"The Great Wall of China is located in southern China. It was built to protect against nomadic invasions and stretches over 15,000 miles.\",\n",
    "    question=\"Where is the Great Wall of China located, and what was its purpose?\",\n",
    "    context = [\n",
    "    \"The Great Wall of China is located in northern China. It was built to protect against invasions from nomadic groups.\",\n",
    "    \"The wall stretches over 13,000 miles and was initially constructed by various dynasties.\",\n",
    "    \"Modern parts of the Great Wall are popular tourist attractions, especially near Beijing.\"\n",
    "    ]\n",
    "    )\n",
    "result"
   ]
  },
  {
   "cell_type": "code",
   "outputs": [],
   "source": [],
   "metadata": {
    "collapsed": false
   }
  }
 ],
 "metadata": {
  "kernelspec": {
   "display_name": "base",
   "language": "python",
   "name": "python3"
  },
  "language_info": {
   "codemirror_mode": {
    "name": "ipython",
    "version": 3
   },
   "file_extension": ".py",
   "mimetype": "text/x-python",
   "name": "python",
   "nbconvert_exporter": "python",
   "pygments_lexer": "ipython3",
   "version": "3.12.4"
  }
 },
 "nbformat": 4,
 "nbformat_minor": 2
}
