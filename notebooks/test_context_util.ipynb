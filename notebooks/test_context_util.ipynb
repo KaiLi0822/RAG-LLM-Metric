{
 "cells": [
  {
   "cell_type": "code",
   "execution_count": 3,
   "metadata": {},
   "outputs": [],
   "source": [
    "import sys\n",
    "sys.path.append(\"..\")\n",
    "import os\n",
    "from evaluator.llm import OpenAIClientLLM\n",
    "from evaluator.prompt_manager import PromptManager\n",
    "from evaluator.evaluators import ContextUtilizationEvaluator"
   ]
  },
  {
   "cell_type": "code",
   "execution_count": 4,
   "metadata": {},
   "outputs": [
    {
     "name": "stdout",
     "output_type": "stream",
     "text": [
      "OpenAI API Key: 8QReMTUyRDdyNLex8_GOm3nkOaaWphy_LMfenWr40XE\n"
     ]
    }
   ],
   "source": [
    "from dotenv import load_dotenv\n",
    "\n",
    "load_dotenv()\n",
    "# print(os.getenv(\"OPENAI_API_KEY\"))\n",
    "print(\"OpenAI API Key:\", os.getenv(\"OPENAI_API_KEY\"))"
   ]
  },
  {
   "cell_type": "code",
   "execution_count": 5,
   "metadata": {},
   "outputs": [
    {
     "name": "stdout",
     "output_type": "stream",
     "text": [
      "Raw LLM response: ```json\n",
      "{\n",
      "  \"relevant_context\": [\n",
      "    \"The Great Wall of China is located in northern China. It was built to protect against invasions from nomadic groups.\",\n",
      "    \"The wall stretches over 13,000 miles and was initially constructed by various dynasties.\"\n",
      "  ],\n",
      "  \"irrelevant_context\": [\n",
      "    \"Modern parts of the Great Wall are popular tourist attractions, especially near Beijing.\"\n",
      "  ]\n",
      "}\n",
      "```\n",
      "Context: ['The Great Wall of China is located in northern China. It was built to protect against invasions from nomadic groups.', 'The wall stretches over 13,000 miles and was initially constructed by various dynasties.', 'Modern parts of the Great Wall are popular tourist attractions, especially near Beijing.']\n"
     ]
    },
    {
     "data": {
      "text/plain": [
       "0.6666666666666666"
      ]
     },
     "execution_count": 5,
     "metadata": {},
     "output_type": "execute_result"
    }
   ],
   "source": [
    "evaluator = ContextUtilizationEvaluator(\n",
    "    llm=OpenAIClientLLM(),\n",
    "    prompt_manager=PromptManager()\n",
    ")\n",
    "\n",
    "result = evaluator.evaluate(\n",
    "    answer=\"The Great Wall of China is located in southern China. It was built to protect against nomadic invasions and stretches over 15,000 miles.\",\n",
    "    question=\"Where is the Great Wall of China located, and what was its purpose?\",\n",
    "    context = [\n",
    "    \"The Great Wall of China is located in northern China. It was built to protect against invasions from nomadic groups.\",\n",
    "    \"The wall stretches over 13,000 miles and was initially constructed by various dynasties.\",\n",
    "    \"Modern parts of the Great Wall are popular tourist attractions, especially near Beijing.\"\n",
    "    ]\n",
    "    )\n",
    "result"
   ]
  }
 ],
 "metadata": {
  "kernelspec": {
   "display_name": "base",
   "language": "python",
   "name": "python3"
  },
  "language_info": {
   "codemirror_mode": {
    "name": "ipython",
    "version": 3
   },
   "file_extension": ".py",
   "mimetype": "text/x-python",
   "name": "python",
   "nbconvert_exporter": "python",
   "pygments_lexer": "ipython3",
   "version": "3.12.4"
  }
 },
 "nbformat": 4,
 "nbformat_minor": 2
}
