{
 "cells": [
  {
   "cell_type": "code",
   "execution_count": 1,
   "metadata": {
    "ExecuteTime": {
     "end_time": "2025-02-17T19:28:59.780442Z",
     "start_time": "2025-02-17T19:28:56.092265Z"
    }
   },
   "outputs": [],
   "source": [
    "import sys\n",
    "sys.path.append(\"..\")\n",
    "from evaluator.evaluators import FactualCorrectnessEvaluator"
   ]
  },
  {
   "cell_type": "code",
   "execution_count": 2,
   "metadata": {
    "ExecuteTime": {
     "end_time": "2025-02-17T19:29:00.752654Z",
     "start_time": "2025-02-17T19:29:00.743542Z"
    }
   },
   "outputs": [
    {
     "data": {
      "text/plain": "True"
     },
     "execution_count": 2,
     "metadata": {},
     "output_type": "execute_result"
    }
   ],
   "source": [
    "from dotenv import load_dotenv\n",
    "load_dotenv()"
   ]
  },
  {
   "cell_type": "code",
   "execution_count": 3,
   "metadata": {
    "ExecuteTime": {
     "end_time": "2025-02-17T19:29:04.062652Z",
     "start_time": "2025-02-17T19:29:01.890656Z"
    }
   },
   "outputs": [
    {
     "data": {
      "text/plain": "{'TP': 1, 'FP': 1, 'FN': 2, 'F1_score': 0.25}"
     },
     "execution_count": 3,
     "metadata": {},
     "output_type": "execute_result"
    }
   ],
   "source": [
    "evaluator = FactualCorrectnessEvaluator()\n",
    "\n",
    "result = evaluator.evaluate(\n",
    "    answer=\"The Great Wall of China is located in southern China. It was built to protect against nomadic invasions and stretches over 15,000 miles.\",\n",
    "    golden_answer=\"The Great Wall of China is located in northern China. It was originally built to protect against invasions and raids from nomadic groups and stretches over 13,000 miles.\"\n",
    ")\n",
    "result"
   ]
  },
  {
   "cell_type": "code",
   "outputs": [],
   "source": [],
   "metadata": {
    "collapsed": false
   }
  }
 ],
 "metadata": {
  "kernelspec": {
   "display_name": "base",
   "language": "python",
   "name": "python3"
  },
  "language_info": {
   "codemirror_mode": {
    "name": "ipython",
    "version": 3
   },
   "file_extension": ".py",
   "mimetype": "text/x-python",
   "name": "python",
   "nbconvert_exporter": "python",
   "pygments_lexer": "ipython3",
   "version": "3.11.9"
  }
 },
 "nbformat": 4,
 "nbformat_minor": 2
}
