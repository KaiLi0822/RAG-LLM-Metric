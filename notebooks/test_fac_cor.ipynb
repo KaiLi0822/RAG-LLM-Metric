{
 "cells": [
  {
   "cell_type": "code",
   "execution_count": 1,
   "metadata": {},
   "outputs": [],
   "source": [
    "import sys\n",
    "sys.path.append(\"..\")\n",
    "\n",
    "from evaluator.llm import OpenAIClientLLM\n",
    "from evaluator.prompt_manager import EvaluationType, PromptManager\n",
    "from evaluator.evaluators import FactualCorrectnessEvaluator"
   ]
  },
  {
   "cell_type": "code",
   "execution_count": 2,
   "metadata": {},
   "outputs": [
    {
     "data": {
      "text/plain": [
       "True"
      ]
     },
     "execution_count": 2,
     "metadata": {},
     "output_type": "execute_result"
    }
   ],
   "source": [
    "from dotenv import load_dotenv\n",
    "load_dotenv()"
   ]
  },
  {
   "cell_type": "code",
   "execution_count": 3,
   "metadata": {},
   "outputs": [
    {
     "name": "stdout",
     "output_type": "stream",
     "text": [
      "{'extracted_statements': {'golden': ['The Great Wall of China is located in northern China', 'It was originally built to protect against invasions and raids from nomadic groups', 'It stretches over 13,000 miles'], 'generated': ['The Great Wall of China is located in southern China', 'It was built to protect against nomadic invasions', 'It stretches over 15,000 miles']}, 'TP': 1, 'FP': 1, 'FN': 2, 'reasons': ['Correct purpose mentioned', 'Incorrect location and length', 'Missed original construction purpose detail and accurate length']}\n"
     ]
    },
    {
     "data": {
      "text/plain": [
       "{'TP': 1, 'FP': 1, 'FN': 2, 'F1_score': 0.25}"
      ]
     },
     "execution_count": 3,
     "metadata": {},
     "output_type": "execute_result"
    }
   ],
   "source": [
    "evaluator = FactualCorrectnessEvaluator(\n",
    "    llm=OpenAIClientLLM(),\n",
    "    prompt_manager=PromptManager(default_type=EvaluationType.LEARNING_FACILITATION)\n",
    ")\n",
    "\n",
    "result = evaluator.evaluate(\n",
    "    answer=\"The Great Wall of China is located in southern China. It was built to protect against nomadic invasions and stretches over 15,000 miles.\",\n",
    "    golden_answer=\"The Great Wall of China is located in northern China. It was originally built to protect against invasions and raids from nomadic groups and stretches over 13,000 miles.\"\n",
    ")\n",
    "result"
   ]
  }
 ],
 "metadata": {
  "kernelspec": {
   "display_name": "base",
   "language": "python",
   "name": "python3"
  },
  "language_info": {
   "codemirror_mode": {
    "name": "ipython",
    "version": 3
   },
   "file_extension": ".py",
   "mimetype": "text/x-python",
   "name": "python",
   "nbconvert_exporter": "python",
   "pygments_lexer": "ipython3",
   "version": "3.11.9"
  }
 },
 "nbformat": 4,
 "nbformat_minor": 2
}
