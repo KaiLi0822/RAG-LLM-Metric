{
 "cells": [
  {
   "cell_type": "code",
   "execution_count": 1,
   "metadata": {
    "ExecuteTime": {
     "end_time": "2025-02-17T19:22:08.939416Z",
     "start_time": "2025-02-17T19:22:05.718692Z"
    }
   },
   "outputs": [
    {
     "name": "stdout",
     "output_type": "stream",
     "text": [
      "vllm is not installed, Please install vllm to use fast inference feature.\n"
     ]
    }
   ],
   "source": [
    "import sys\n",
    "sys.path.append(\"..\")\n",
    "\n",
    "from utils.llm import OpenAIClientLLM\n",
    "from evaluator.prompt_manager import EvalPromptManager\n",
    "from evaluator.evaluators import FactualAccuracyEvaluator"
   ]
  },
  {
   "cell_type": "code",
   "execution_count": 2,
   "metadata": {
    "ExecuteTime": {
     "end_time": "2025-02-17T19:22:12.477182Z",
     "start_time": "2025-02-17T19:22:12.466835Z"
    }
   },
   "outputs": [
    {
     "data": {
      "text/plain": [
       "True"
      ]
     },
     "execution_count": 2,
     "metadata": {},
     "output_type": "execute_result"
    }
   ],
   "source": [
    "from dotenv import load_dotenv\n",
    "load_dotenv()"
   ]
  },
  {
   "cell_type": "code",
   "execution_count": 3,
   "metadata": {
    "ExecuteTime": {
     "end_time": "2025-02-17T19:22:29.045294Z",
     "start_time": "2025-02-17T19:22:26.822290Z"
    }
   },
   "outputs": [
    {
     "data": {
      "text/plain": [
       "{'accuracy_score': 0.6,\n",
       " 'supported_claims': ['The reef was designated a World Heritage Site in 1981',\n",
       "  'It is threatened by climate change, pollution'],\n",
       " 'unsupported_claims': ['The Great Barrier Reef is found off the coast of Western Australia',\n",
       "  'This reef system consists of over 2,000 reefs and 400 islands',\n",
       "  'overfishing as a threat is not mentioned in the context']}"
      ]
     },
     "execution_count": 3,
     "metadata": {},
     "output_type": "execute_result"
    }
   ],
   "source": [
    "evaluator = FactualAccuracyEvaluator()\n",
    "\n",
    "result = evaluator.evaluate(\n",
    "    context=\"The Great Barrier Reef is located in the Coral Sea, off the coast of Queensland, Australia. It is the world's largest coral reef system, composed of over 2,900 individual reefs and 900 islands. The Great Barrier Reef was designated a World Heritage Site in 1981 and is a significant tourist destination. The reef faces serious threats from climate change, pollution, and other human activities, leading to coral bleaching events and biodiversity loss.\",\n",
    "    answer=\"The Great Barrier Reef is found off the coast of Western Australia. It was designated a World Heritage Site in 1981. This reef system consists of over 2,000 reefs and 400 islands. It is threatened by climate change, pollution, and overfishing, causing widespread coral bleaching. The reef is home to a vast range of marine species, including fish, turtles, and mammals.\")\n",
    "result"
   ]
  }
 ],
 "metadata": {
  "kernelspec": {
   "display_name": "base",
   "language": "python",
   "name": "python3"
  },
  "language_info": {
   "codemirror_mode": {
    "name": "ipython",
    "version": 3
   },
   "file_extension": ".py",
   "mimetype": "text/x-python",
   "name": "python",
   "nbconvert_exporter": "python",
   "pygments_lexer": "ipython3",
   "version": "3.12.4"
  }
 },
 "nbformat": 4,
 "nbformat_minor": 2
}
