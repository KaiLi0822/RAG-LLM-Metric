{
 "cells": [
  {
   "cell_type": "code",
   "execution_count": 2,
   "metadata": {},
   "outputs": [
    {
     "name": "stderr",
     "output_type": "stream",
     "text": [
      "/home/osx/.local/lib/python3.10/site-packages/pandas/core/arrays/masked.py:60: UserWarning: Pandas requires version '1.3.6' or newer of 'bottleneck' (version '1.3.5' currently installed).\n",
      "  from pandas.core import (\n",
      "/home/osx/anaconda3/lib/python3.10/site-packages/torchvision/io/image.py:13: UserWarning: Failed to load image Python extension: 'libc10_cuda.so: cannot open shared object file: No such file or directory'If you don't plan on using image functionality from `torchvision.io`, you can ignore this warning. Otherwise, there might be something wrong with your environment. Did you have `libjpeg` or `libpng` installed before building `torchvision` from source?\n",
      "  warn(\n",
      "/home/osx/anaconda3/lib/python3.10/site-packages/torchvision/datapoints/__init__.py:12: UserWarning: The torchvision.datapoints and torchvision.transforms.v2 namespaces are still Beta. While we do not expect major breaking changes, some APIs may still change according to user feedback. Please submit any feedback you may have in this issue: https://github.com/pytorch/vision/issues/6753, and you can also check out https://github.com/pytorch/vision/issues/7319 to learn more about the APIs that we suspect might involve future changes. You can silence this warning by calling torchvision.disable_beta_transforms_warning().\n",
      "  warnings.warn(_BETA_TRANSFORMS_WARNING)\n",
      "/home/osx/anaconda3/lib/python3.10/site-packages/torchvision/transforms/v2/__init__.py:54: UserWarning: The torchvision.datapoints and torchvision.transforms.v2 namespaces are still Beta. While we do not expect major breaking changes, some APIs may still change according to user feedback. Please submit any feedback you may have in this issue: https://github.com/pytorch/vision/issues/6753, and you can also check out https://github.com/pytorch/vision/issues/7319 to learn more about the APIs that we suspect might involve future changes. You can silence this warning by calling torchvision.disable_beta_transforms_warning().\n",
      "  warnings.warn(_BETA_TRANSFORMS_WARNING)\n"
     ]
    }
   ],
   "source": [
    "import sys\n",
    "from typing import Dict\n",
    "import json\n",
    "sys.path.append(\"..\")\n",
    "\n",
    "from evaluator.base_evaluator import RAGEvaluator\n",
    "from utils.llm import OpenAIClientLLM\n",
    "from evaluator.prompt_manager import EvaluationType, EvalPromptManager\n",
    "from evaluator.evaluators import LearningFacilitationEvaluator, EngagementEvaluator"
   ]
  },
  {
   "cell_type": "code",
   "execution_count": 3,
   "metadata": {},
   "outputs": [
    {
     "data": {
      "text/plain": [
       "{'learning_facilitation_score': 0.0,\n",
       " 'educational_strengths': [],\n",
       " 'areas_for_improvement': ['Lack of clarity',\n",
       "  'No examples provided',\n",
       "  'No depth of information',\n",
       "  'Does not encourage further inquiry'],\n",
       " 'confidence': 0.0}"
      ]
     },
     "execution_count": 3,
     "metadata": {},
     "output_type": "execute_result"
    }
   ],
   "source": [
    "evaluator = LearningFacilitationEvaluator(\n",
    "    llm_class=OpenAIClientLLM,\n",
    ")\n",
    "\n",
    "result = evaluator.evaluate(\n",
    "    question=\"How do I renew my Power engineer certificate\",\n",
    "    context=\"While requirements for renewal may differ depending on your technology, applications can be submitted through your Online Services account. There may be additional educational requirements necessary for your renewal. Visit the renewal page specific to your technology to learn more\",\n",
    "    answer=\"I dont know\",\n",
    ")\n",
    "result"
   ]
  },
  {
   "cell_type": "code",
   "execution_count": 5,
   "metadata": {},
   "outputs": [
    {
     "data": {
      "text/plain": [
       "{'engagement_score': 0.0,\n",
       " 'engaging_elements': [],\n",
       " 'suggestions_for_improvement': ['Provide a clear and direct answer to the question',\n",
       "  'Include relevant details about the renewal process',\n",
       "  'Offer additional resources or support for the reader'],\n",
       " 'confidence': 0.95}"
      ]
     },
     "execution_count": 5,
     "metadata": {},
     "output_type": "execute_result"
    }
   ],
   "source": [
    "# Initialize the EngagementEvaluator\n",
    "evaluator = EngagementEvaluator(\n",
    "    llm_class=OpenAIClientLLM,\n",
    ")\n",
    "\n",
    "# Evaluate the response\n",
    "result = evaluator.evaluate(\n",
    "    question=\"How do I renew my Power engineer certificate\",\n",
    "    context=\"While requirements for renewal may differ depending on your technology, applications can be submitted through your Online Services account. There may be additional educational requirements necessary for your renewal. Visit the renewal page specific to your technology to learn more\",\n",
    "    answer=\"I dont know\",\n",
    ")\n",
    "result\n"
   ]
  },
  {
   "cell_type": "code",
   "execution_count": 6,
   "metadata": {},
   "outputs": [
    {
     "data": {
      "text/plain": [
       "{'engagement_score': 0.0,\n",
       " 'engaging_elements': [],\n",
       " 'suggestions_for_improvement': ['Provide a clear and direct answer to the question',\n",
       "  'Include relevant details about the renewal process',\n",
       "  'Offer additional resources or support for the reader'],\n",
       " 'confidence': 0.95}"
      ]
     },
     "execution_count": 6,
     "metadata": {},
     "output_type": "execute_result"
    }
   ],
   "source": [
    "result"
   ]
  }
 ],
 "metadata": {
  "kernelspec": {
   "display_name": "base",
   "language": "python",
   "name": "python3"
  },
  "language_info": {
   "codemirror_mode": {
    "name": "ipython",
    "version": 3
   },
   "file_extension": ".py",
   "mimetype": "text/x-python",
   "name": "python",
   "nbconvert_exporter": "python",
   "pygments_lexer": "ipython3",
   "version": "3.10.13"
  }
 },
 "nbformat": 4,
 "nbformat_minor": 2
}
