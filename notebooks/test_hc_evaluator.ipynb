{
 "cells": [
  {
   "cell_type": "code",
   "execution_count": 1,
   "metadata": {},
   "outputs": [],
   "source": [
    "import sys\n",
    "from typing import Dict\n",
    "import json\n",
    "sys.path.append(\"..\")\n",
    "\n",
    "from evaluator.base_evaluator import RAGEvaluator\n",
    "from evaluator.llm import OpenAIClientLLM\n",
    "from evaluator.prompt_manager import EvaluationType, PromptManager\n",
    "from evaluator.evaluators import LearningFacilitationEvaluator, EngagementEvaluator"
   ]
  },
  {
   "cell_type": "code",
   "execution_count": 2,
   "metadata": {},
   "outputs": [
    {
     "name": "stderr",
     "output_type": "stream",
     "text": [
      "Using the latest cached version of the dataset since rungalileo/ragbench couldn't be found on the Hugging Face Hub\n",
      "Found the latest cached dataset configuration 'delucionqa' at /home/zhang.jinda1/.cache/huggingface/datasets/rungalileo___ragbench/delucionqa/0.0.0/97808f3e5fd16ede40bbff6c2949af8139b2eb7b (last modified on Fri Feb  7 22:26:03 2025).\n"
     ]
    }
   ],
   "source": [
    "from datasets import load_dataset\n",
    "delucionqa = load_dataset(\"rungalileo/ragbench\", \"delucionqa\")\n",
    "df = delucionqa['train'].to_pandas()\n",
    "a = df.head()\n",
    "# a['flatten_doc'] = a.apply(lambda x: \"\\n\".join([f\"`{label}` {sentence}\" for label, sentence in [inner_list for middle_list in x['documents_sentences'] for inner_list in middle_list]]), axis = 1)\n",
    "answer = a.iloc[1]['response']\n",
    "documents = a.iloc[1]['documents']\n",
    "question = a.iloc[1]['question']"
   ]
  },
  {
   "cell_type": "code",
   "execution_count": 3,
   "metadata": {},
   "outputs": [
    {
     "name": "stdout",
     "output_type": "stream",
     "text": [
      "To customize the Uconnect system based on your own preferences, you can follow these steps:\n",
      "\n",
      "1. Press the apps button on the touchscreen to open the app screen.\n",
      "2. Press and hold the selected app, then drag it to replace an existing shortcut in the main menu bar.\n",
      "3. Note that this feature is only available when the vehicle is in PARK. \n",
      "\n",
      "\n",
      "[' Uconnect 4 with 7-inch display and uconnect 4/4c/4c nav with 8.4-inch display press the apps button, then press the settings button on the touchscreen to display the menu setting screen.  In this mode the Uconnect system allows you to access programmable features.  When making a selection, only press one button at a time to enter the desired menu.  Once in the desired menu, press and release the preferred setting option until a check mark appears next to the setting, showing that setting has been selected.  Once the setting is complete, press the X button on the touchscreen to close out of the settings screen.  Pressing the Up or Down Arrow button on the right side of the screen will allow you to toggle up or down through the available settings.  Note: Depending on the vehicle’s options, feature settings may vary.  All settings should be changed with the ignition in the ON/RUN position.'\n",
      " ' Drag & Drop Menu Bar The Uconnect features and services in the main menu bar are easily customized for your preference.  Simply follow these steps: press the apps button to open the app screen.  Press and hold, then drag the selected app to replace an existing shortcut in the main menu bar.  Note: This feature is only available if the vehicle is in PARK.  Uconnect 4 with 7-inch display and uconnect 4/4c/4c nav with 8.4-inch display press the apps button, then press the settings button on the touchscreen to display the menu setting screen.  In this mode the Uconnect system allows you to access programmable features.  When making a selection, only press one button at a time to enter the desired menu.  Once in the desired menu, press and release the preferred setting option until a check mark appears next to the setting, showing that setting has been selected.  Once the setting is complete, press the X button on the touchscreen to close out of the settings screen.  Pressing the Up or Down Arrow button on the right side of the screen will allow you to toggle up or down through the available settings.  Note: Depending on the vehicle’s options, feature settings may vary.  All settings should be changed with the ignition in the ON/RUN position.  UCONNECT SETTINGS The Uconnect system uses a combination of buttons on the touchscreen and buttons on the faceplate located on the center of the instrument panel.  These buttons allow you to access and change the Customer Programmable Features.  Many features can vary by vehicle.  Buttons on the faceplate are located below and/or beside the Uconnect system in the center of the instrument panel.  In addition, there is a SCROLL/ENTER control knob located on the right side.  Turn the control knob to scroll through menus and change settings.  Push the center of the control knob one or more times to select or change a setting.  Your Uconnect system may also have SCREEN OFF and MUTE buttons on the faceplate.  Push the SCREEN OFF button on the faceplate to turn off the Uconnect screen.  Push the button again or tap the screen to turn the screen on.  Press the Back Arrow button to exit out of a Menu or certain option on the Uconnect system.'\n",
      " ' UCONNECT SETTINGS The Uconnect system uses a combination of buttons on the touchscreen and buttons on the faceplate located on the center of the instrument panel.  These buttons allow you to access and change the Customer Programmable Features.  Many features can vary by vehicle.  Buttons on the faceplate are located below and/or beside the Uconnect system in the center of the instrument panel.  In addition, there is a SCROLL/ENTER control knob located on the right side.  Turn the control knob to scroll through menus and change settings.  Push the center of the control knob one or more times to select or change a setting.  Your Uconnect system may also have SCREEN OFF and MUTE buttons on the faceplate.  Push the SCREEN OFF button on the faceplate to turn off the Uconnect screen.  Push the button again or tap the screen to turn the screen on.  Press the Back Arrow button to exit out of a Menu or certain option on the Uconnect system.'] \n",
      "\n",
      "\n",
      "how to customize Uconnect system based on my own preferences? \n",
      "\n",
      "\n"
     ]
    }
   ],
   "source": [
    "print(answer, \"\\n\\n\")\n",
    "print(documents,  \"\\n\\n\")\n",
    "print(question, \"\\n\\n\")"
   ]
  },
  {
   "cell_type": "code",
   "execution_count": 4,
   "metadata": {},
   "outputs": [
    {
     "data": {
      "text/plain": [
       "True"
      ]
     },
     "execution_count": 4,
     "metadata": {},
     "output_type": "execute_result"
    }
   ],
   "source": [
    "import os\n",
    "from dotenv import load_dotenv\n",
    "load_dotenv()"
   ]
  },
  {
   "cell_type": "code",
   "execution_count": 5,
   "metadata": {},
   "outputs": [
    {
     "name": "stdout",
     "output_type": "stream",
     "text": [
      "Raw LLM response: ```json\n",
      "{\n",
      "  \"learning_facilitation_score\": 0.7,\n",
      "  \"educational_strengths\": [\"Clear step-by-step instructions\", \"Simple language\"],\n",
      "  \"areas_for_improvement\": [\"Lacks depth of information\", \"No encouragement for further inquiry\", \"Does not cover all customization options\"],\n",
      "  \"confidence\": 0.85\n",
      "}\n",
      "```\n"
     ]
    },
    {
     "data": {
      "text/plain": [
       "{'learning_facilitation_score': 0.7,\n",
       " 'educational_strengths': ['Clear step-by-step instructions',\n",
       "  'Simple language'],\n",
       " 'areas_for_improvement': ['Lacks depth of information',\n",
       "  'No encouragement for further inquiry',\n",
       "  'Does not cover all customization options'],\n",
       " 'confidence': 0.85}"
      ]
     },
     "execution_count": 5,
     "metadata": {},
     "output_type": "execute_result"
    }
   ],
   "source": [
    "evaluator = LearningFacilitationEvaluator(\n",
    "    llm=OpenAIClientLLM(\n",
    "        model=\"gpt-4o\",\n",
    "        base_url='https://api.openai.com/v1/'\n",
    "    ),\n",
    "    prompt_manager=PromptManager(default_type=EvaluationType.LEARNING_FACILITATION)\n",
    ")\n",
    "\n",
    "result = evaluator.evaluate(\n",
    "    question=question,\n",
    "    context=documents,\n",
    "    answer=answer,\n",
    ")\n",
    "result"
   ]
  },
  {
   "cell_type": "code",
   "execution_count": 5,
   "metadata": {},
   "outputs": [
    {
     "name": "stdout",
     "output_type": "stream",
     "text": [
      "Raw LLM response: ```json\n",
      "{\n",
      "  \"engagement_score\": 0.4,\n",
      "  \"engaging_elements\": [\"Clear instructions\"],\n",
      "  \"suggestions_for_improvement\": [\n",
      "    \"Add a captivating introduction\",\n",
      "    \"Use more vivid language to describe the customization process\",\n",
      "    \"Include interesting facts about Uconnect capabilities\",\n",
      "    \"Incorporate real-world applications or examples\"\n",
      "  ],\n",
      "  \"confidence\": 0.85\n",
      "}\n",
      "```\n"
     ]
    }
   ],
   "source": [
    "# Initialize the EngagementEvaluator\n",
    "evaluator = EngagementEvaluator(\n",
    "    llm=OpenAIClientLLM(\n",
    "        model=\"gpt-4o\",\n",
    "        base_url='https://api.openai.com/v1/'\n",
    "    ),\n",
    "    prompt_manager=PromptManager(default_type=EvaluationType.ENGAGEMENT_INDEX)\n",
    ")\n",
    "\n",
    "# Evaluate the response\n",
    "result = evaluator.evaluate(\n",
    "    question=question,\n",
    "    context=documents,\n",
    "    answer=answer,\n",
    ")\n"
   ]
  },
  {
   "cell_type": "code",
   "execution_count": 6,
   "metadata": {},
   "outputs": [
    {
     "data": {
      "text/plain": [
       "{'engagement_score': 0.4,\n",
       " 'engaging_elements': ['Clear instructions'],\n",
       " 'suggestions_for_improvement': ['Add a captivating introduction',\n",
       "  'Use more vivid language to describe the customization process',\n",
       "  'Include interesting facts about Uconnect capabilities',\n",
       "  'Incorporate real-world applications or examples'],\n",
       " 'confidence': 0.85}"
      ]
     },
     "execution_count": 6,
     "metadata": {},
     "output_type": "execute_result"
    }
   ],
   "source": [
    "result"
   ]
  }
 ],
 "metadata": {
  "kernelspec": {
   "display_name": "Python 3",
   "language": "python",
   "name": "python3"
  },
  "language_info": {
   "codemirror_mode": {
    "name": "ipython",
    "version": 3
   },
   "file_extension": ".py",
   "mimetype": "text/x-python",
   "name": "python",
   "nbconvert_exporter": "python",
   "pygments_lexer": "ipython3",
   "version": "3.10.14"
  }
 },
 "nbformat": 4,
 "nbformat_minor": 2
}
