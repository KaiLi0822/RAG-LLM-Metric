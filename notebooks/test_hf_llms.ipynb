{
 "cells": [
  {
   "cell_type": "code",
   "execution_count": 1,
   "metadata": {},
   "outputs": [
    {
     "name": "stdout",
     "output_type": "stream",
     "text": [
      "Fri Feb 14 23:38:46 2025       \n",
      "+---------------------------------------------------------------------------------------+\n",
      "| NVIDIA-SMI 545.23.08              Driver Version: 545.23.08    CUDA Version: 12.3     |\n",
      "|-----------------------------------------+----------------------+----------------------+\n",
      "| GPU  Name                 Persistence-M | Bus-Id        Disp.A | Volatile Uncorr. ECC |\n",
      "| Fan  Temp   Perf          Pwr:Usage/Cap |         Memory-Usage | GPU-Util  Compute M. |\n",
      "|                                         |                      |               MIG M. |\n",
      "|=========================================+======================+======================|\n",
      "|   0  Tesla V100-SXM2-32GB           Off | 00000000:AF:00.0 Off |                    0 |\n",
      "| N/A   43C    P0              58W / 300W |      0MiB / 32768MiB |      2%      Default |\n",
      "|                                         |                      |                  N/A |\n",
      "+-----------------------------------------+----------------------+----------------------+\n",
      "                                                                                         \n",
      "+---------------------------------------------------------------------------------------+\n",
      "| Processes:                                                                            |\n",
      "|  GPU   GI   CI        PID   Type   Process name                            GPU Memory |\n",
      "|        ID   ID                                                             Usage      |\n",
      "|=======================================================================================|\n",
      "|  No running processes found                                                           |\n",
      "+---------------------------------------------------------------------------------------+\n"
     ]
    }
   ],
   "source": [
    "!nvidia-smi"
   ]
  },
  {
   "cell_type": "code",
   "execution_count": 2,
   "metadata": {},
   "outputs": [],
   "source": [
    "import sys\n",
    "from typing import Dict\n",
    "import json\n",
    "sys.path.append(\"..\")\n",
    "\n",
    "from evaluator.base_evaluator import RAGEvaluator\n",
    "from evaluator.llm import HFClient\n",
    "from evaluator.prompt_manager import EvaluationType, PromptManager\n",
    "from evaluator.evaluators import LearningFacilitationEvaluator, EngagementEvaluator"
   ]
  },
  {
   "cell_type": "code",
   "execution_count": 4,
   "metadata": {},
   "outputs": [
    {
     "name": "stderr",
     "output_type": "stream",
     "text": [
      "Using the latest cached version of the dataset since rungalileo/ragbench couldn't be found on the Hugging Face Hub\n",
      "Found the latest cached dataset configuration 'delucionqa' at /home/zhang.jinda1/.cache/huggingface/datasets/rungalileo___ragbench/delucionqa/0.0.0/97808f3e5fd16ede40bbff6c2949af8139b2eb7b (last modified on Fri Feb  7 22:26:03 2025).\n"
     ]
    }
   ],
   "source": [
    "from datasets import load_dataset\n",
    "delucionqa = load_dataset(\"rungalileo/ragbench\", \"delucionqa\")\n",
    "df = delucionqa['train'].to_pandas()\n",
    "a = df.head()\n",
    "# a['flatten_doc'] = a.apply(lambda x: \"\\n\".join([f\"`{label}` {sentence}\" for label, sentence in [inner_list for middle_list in x['documents_sentences'] for inner_list in middle_list]]), axis = 1)\n",
    "answer = a.iloc[1]['response']\n",
    "documents = a.iloc[1]['documents']\n",
    "question = a.iloc[1]['question']"
   ]
  },
  {
   "cell_type": "code",
   "execution_count": 5,
   "metadata": {},
   "outputs": [
    {
     "name": "stdout",
     "output_type": "stream",
     "text": [
      "To customize the Uconnect system based on your own preferences, you can follow these steps:\n",
      "\n",
      "1. Press the apps button on the touchscreen to open the app screen.\n",
      "2. Press and hold the selected app, then drag it to replace an existing shortcut in the main menu bar.\n",
      "3. Note that this feature is only available when the vehicle is in PARK. \n",
      "\n",
      "\n",
      "[' Uconnect 4 with 7-inch display and uconnect 4/4c/4c nav with 8.4-inch display press the apps button, then press the settings button on the touchscreen to display the menu setting screen.  In this mode the Uconnect system allows you to access programmable features.  When making a selection, only press one button at a time to enter the desired menu.  Once in the desired menu, press and release the preferred setting option until a check mark appears next to the setting, showing that setting has been selected.  Once the setting is complete, press the X button on the touchscreen to close out of the settings screen.  Pressing the Up or Down Arrow button on the right side of the screen will allow you to toggle up or down through the available settings.  Note: Depending on the vehicle’s options, feature settings may vary.  All settings should be changed with the ignition in the ON/RUN position.'\n",
      " ' Drag & Drop Menu Bar The Uconnect features and services in the main menu bar are easily customized for your preference.  Simply follow these steps: press the apps button to open the app screen.  Press and hold, then drag the selected app to replace an existing shortcut in the main menu bar.  Note: This feature is only available if the vehicle is in PARK.  Uconnect 4 with 7-inch display and uconnect 4/4c/4c nav with 8.4-inch display press the apps button, then press the settings button on the touchscreen to display the menu setting screen.  In this mode the Uconnect system allows you to access programmable features.  When making a selection, only press one button at a time to enter the desired menu.  Once in the desired menu, press and release the preferred setting option until a check mark appears next to the setting, showing that setting has been selected.  Once the setting is complete, press the X button on the touchscreen to close out of the settings screen.  Pressing the Up or Down Arrow button on the right side of the screen will allow you to toggle up or down through the available settings.  Note: Depending on the vehicle’s options, feature settings may vary.  All settings should be changed with the ignition in the ON/RUN position.  UCONNECT SETTINGS The Uconnect system uses a combination of buttons on the touchscreen and buttons on the faceplate located on the center of the instrument panel.  These buttons allow you to access and change the Customer Programmable Features.  Many features can vary by vehicle.  Buttons on the faceplate are located below and/or beside the Uconnect system in the center of the instrument panel.  In addition, there is a SCROLL/ENTER control knob located on the right side.  Turn the control knob to scroll through menus and change settings.  Push the center of the control knob one or more times to select or change a setting.  Your Uconnect system may also have SCREEN OFF and MUTE buttons on the faceplate.  Push the SCREEN OFF button on the faceplate to turn off the Uconnect screen.  Push the button again or tap the screen to turn the screen on.  Press the Back Arrow button to exit out of a Menu or certain option on the Uconnect system.'\n",
      " ' UCONNECT SETTINGS The Uconnect system uses a combination of buttons on the touchscreen and buttons on the faceplate located on the center of the instrument panel.  These buttons allow you to access and change the Customer Programmable Features.  Many features can vary by vehicle.  Buttons on the faceplate are located below and/or beside the Uconnect system in the center of the instrument panel.  In addition, there is a SCROLL/ENTER control knob located on the right side.  Turn the control knob to scroll through menus and change settings.  Push the center of the control knob one or more times to select or change a setting.  Your Uconnect system may also have SCREEN OFF and MUTE buttons on the faceplate.  Push the SCREEN OFF button on the faceplate to turn off the Uconnect screen.  Push the button again or tap the screen to turn the screen on.  Press the Back Arrow button to exit out of a Menu or certain option on the Uconnect system.'] \n",
      "\n",
      "\n",
      "how to customize Uconnect system based on my own preferences? \n",
      "\n",
      "\n"
     ]
    }
   ],
   "source": [
    "logger.info(answer, \"\\n\\n\")\n",
    "logger.info(documents,  \"\\n\\n\")\n",
    "logger.info(question, \"\\n\\n\")"
   ]
  },
  {
   "cell_type": "code",
   "execution_count": 6,
   "metadata": {},
   "outputs": [
    {
     "data": {
      "text/plain": [
       "True"
      ]
     },
     "execution_count": 6,
     "metadata": {},
     "output_type": "execute_result"
    }
   ],
   "source": [
    "from dotenv import load_dotenv\n",
    "\n",
    "load_dotenv()"
   ]
  },
  {
   "cell_type": "code",
   "execution_count": 7,
   "metadata": {},
   "outputs": [
    {
     "name": "stdout",
     "output_type": "stream",
     "text": [
      "The token has not been saved to the git credentials helper. Pass `add_to_git_credential=True` in this function directly or `--add-to-git-credential` if using via `huggingface-cli` if you want to set the git credential as well.\n",
      "Token is valid (permission: write).\n",
      "Your token has been saved to /home/zhang.jinda1/.cache/huggingface/token\n",
      "Login successful\n"
     ]
    },
    {
     "name": "stderr",
     "output_type": "stream",
     "text": [
      "The attention mask is not set and cannot be inferred from input because pad token is same as eos token. As a consequence, you may observe unexpected behavior. Please pass your input's `attention_mask` to obtain reliable results.\n"
     ]
    },
    {
     "name": "stdout",
     "output_type": "stream",
     "text": [
      "Quantum computing is a type of computing that uses the principles of quantum mechanics to perform operations on data.\n",
      "In classical computers, information is stored and processed using bits, which can have a value of either 0 or 1. In contrast, quantum computers use qubits (quantum bits), which can exist in multiple states simultaneously due to a property called superposition. This allows quantum computers to process a much larger amount of information at once than classical computers, making them potentially much faster for certain types of calculations.\n",
      "Another key feature of quantum computers is entanglement, where pairs of qubits become correlated in such a way that the state of one qubit cannot be determined without knowing the state of the other. This means that quantum computers can perform certain tasks much more efficiently than classical computers.\n",
      "Overall, quantum computing has the potential to revolutionize many fields, including cryptography, chemistry, and materials science. However, it also presents significant challenges in terms of technology and security, as well as the need for new algorithms and approaches to optimize performance.\n"
     ]
    }
   ],
   "source": [
    "qwen_client = HFClient(\n",
    "    model_path=\"Qwen/Qwen2.5-1.5B-Instruct\",\n",
    ")\n",
    "\n",
    "# Basic generation\n",
    "response = qwen_client.generate(\"Explain quantum computing simply\")\n"
   ]
  },
  {
   "cell_type": "code",
   "execution_count": 8,
   "metadata": {},
   "outputs": [
    {
     "data": {
      "text/plain": [
       "'Quantum computing is a type of computing that uses the principles of quantum mechanics to perform operations on data.\\nIn classical computers, information is stored and processed using bits, which can have a value of either 0 or 1. In contrast, quantum computers use qubits (quantum bits), which can exist in multiple states simultaneously due to a property called superposition. This allows quantum computers to process a much larger amount of information at once than classical computers, making them potentially much faster for certain types of calculations.\\nAnother key feature of quantum computers is entanglement, where pairs of qubits become correlated in such a way that the state of one qubit cannot be determined without knowing the state of the other. This means that quantum computers can perform certain tasks much more efficiently than classical computers.\\nOverall, quantum computing has the potential to revolutionize many fields, including cryptography, chemistry, and materials science. However, it also presents significant challenges in terms of technology and security, as well as the need for new algorithms and approaches to optimize performance.'"
      ]
     },
     "execution_count": 8,
     "metadata": {},
     "output_type": "execute_result"
    }
   ],
   "source": [
    "response"
   ]
  },
  {
   "cell_type": "code",
   "execution_count": 10,
   "metadata": {},
   "outputs": [
    {
     "name": "stdout",
     "output_type": "stream",
     "text": [
      "The token has not been saved to the git credentials helper. Pass `add_to_git_credential=True` in this function directly or `--add-to-git-credential` if using via `huggingface-cli` if you want to set the git credential as well.\n",
      "Token is valid (permission: write).\n",
      "Your token has been saved to /home/zhang.jinda1/.cache/huggingface/token\n",
      "Login successful\n",
      "Raw LLM response: {\n",
      "  \"learning_facilitation_score\": 0.9,\n",
      "  \"educational_strengths\": [\n",
      "    \"Clarity of explanations\",\n",
      "    \"Use of examples\",\n",
      "    \"Depth of information\"\n",
      "  ],\n",
      "  \"areas_for_improvement\": [\n",
      "    \"Encourage further inquiry\",\n",
      "    \"Visual aids for better understanding\"\n",
      "  ],\n",
      "  \"confidence\": 0.95\n",
      "}\n"
     ]
    }
   ],
   "source": [
    "evaluator = LearningFacilitationEvaluator(\n",
    "    llm=HFClient(\n",
    "        model_path=\"Qwen/Qwen2.5-1.5B-Instruct\",\n",
    "    ),\n",
    "    prompt_manager=PromptManager(default_type=EvaluationType.LEARNING_FACILITATION)\n",
    ")\n",
    "\n",
    "result = evaluator.evaluate(\n",
    "    question=question,\n",
    "    context=documents,\n",
    "    answer=answer,\n",
    ")"
   ]
  },
  {
   "cell_type": "code",
   "execution_count": 11,
   "metadata": {},
   "outputs": [
    {
     "data": {
      "text/plain": [
       "{'learning_facilitation_score': 0.9,\n",
       " 'educational_strengths': ['Clarity of explanations',\n",
       "  'Use of examples',\n",
       "  'Depth of information'],\n",
       " 'areas_for_improvement': ['Encourage further inquiry',\n",
       "  'Visual aids for better understanding'],\n",
       " 'confidence': 0.95}"
      ]
     },
     "execution_count": 11,
     "metadata": {},
     "output_type": "execute_result"
    }
   ],
   "source": [
    "result"
   ]
  },
  {
   "cell_type": "code",
   "execution_count": 12,
   "metadata": {},
   "outputs": [
    {
     "name": "stdout",
     "output_type": "stream",
     "text": [
      "The token has not been saved to the git credentials helper. Pass `add_to_git_credential=True` in this function directly or `--add-to-git-credential` if using via `huggingface-cli` if you want to set the git credential as well.\n",
      "Token is valid (permission: write).\n",
      "Your token has been saved to /home/zhang.jinda1/.cache/huggingface/token\n",
      "Login successful\n"
     ]
    },
    {
     "data": {
      "application/vnd.jupyter.widget-view+json": {
       "model_id": "d5d0257179d945a3803dbe8263515b8f",
       "version_major": 2,
       "version_minor": 0
      },
      "text/plain": [
       "tokenizer_config.json:   0%|          | 0.00/54.5k [00:00<?, ?B/s]"
      ]
     },
     "metadata": {},
     "output_type": "display_data"
    },
    {
     "data": {
      "application/vnd.jupyter.widget-view+json": {
       "model_id": "be95af9f66df41feb6398f1c2bcd4b64",
       "version_major": 2,
       "version_minor": 0
      },
      "text/plain": [
       "tokenizer.json:   0%|          | 0.00/9.09M [00:00<?, ?B/s]"
      ]
     },
     "metadata": {},
     "output_type": "display_data"
    },
    {
     "data": {
      "application/vnd.jupyter.widget-view+json": {
       "model_id": "0eec82c8b4be443bbf6887c5522a2916",
       "version_major": 2,
       "version_minor": 0
      },
      "text/plain": [
       "special_tokens_map.json:   0%|          | 0.00/296 [00:00<?, ?B/s]"
      ]
     },
     "metadata": {},
     "output_type": "display_data"
    },
    {
     "data": {
      "application/vnd.jupyter.widget-view+json": {
       "model_id": "3d438edcd20d42328c1225e6e99be161",
       "version_major": 2,
       "version_minor": 0
      },
      "text/plain": [
       "config.json:   0%|          | 0.00/878 [00:00<?, ?B/s]"
      ]
     },
     "metadata": {},
     "output_type": "display_data"
    },
    {
     "data": {
      "application/vnd.jupyter.widget-view+json": {
       "model_id": "96a15b2d62eb4a259cf8555369893940",
       "version_major": 2,
       "version_minor": 0
      },
      "text/plain": [
       "model.safetensors.index.json:   0%|          | 0.00/20.9k [00:00<?, ?B/s]"
      ]
     },
     "metadata": {},
     "output_type": "display_data"
    },
    {
     "data": {
      "application/vnd.jupyter.widget-view+json": {
       "model_id": "ba7f46b9e6a4453786314f7bb63d8827",
       "version_major": 2,
       "version_minor": 0
      },
      "text/plain": [
       "Downloading shards:   0%|          | 0/2 [00:00<?, ?it/s]"
      ]
     },
     "metadata": {},
     "output_type": "display_data"
    },
    {
     "data": {
      "application/vnd.jupyter.widget-view+json": {
       "model_id": "2fed04af0fc1436097db2bef9d4d9723",
       "version_major": 2,
       "version_minor": 0
      },
      "text/plain": [
       "model-00001-of-00002.safetensors:   0%|          | 0.00/4.97G [00:00<?, ?B/s]"
      ]
     },
     "metadata": {},
     "output_type": "display_data"
    },
    {
     "data": {
      "application/vnd.jupyter.widget-view+json": {
       "model_id": "70f91a0e9f934a9c8139c5e65aa5021b",
       "version_major": 2,
       "version_minor": 0
      },
      "text/plain": [
       "model-00002-of-00002.safetensors:   0%|          | 0.00/1.46G [00:00<?, ?B/s]"
      ]
     },
     "metadata": {},
     "output_type": "display_data"
    },
    {
     "data": {
      "application/vnd.jupyter.widget-view+json": {
       "model_id": "d5164714d91c47c2a220682a07aae0e0",
       "version_major": 2,
       "version_minor": 0
      },
      "text/plain": [
       "Loading checkpoint shards:   0%|          | 0/2 [00:00<?, ?it/s]"
      ]
     },
     "metadata": {},
     "output_type": "display_data"
    },
    {
     "data": {
      "application/vnd.jupyter.widget-view+json": {
       "model_id": "fbb963997822480b90a4724ca330b818",
       "version_major": 2,
       "version_minor": 0
      },
      "text/plain": [
       "generation_config.json:   0%|          | 0.00/189 [00:00<?, ?B/s]"
      ]
     },
     "metadata": {},
     "output_type": "display_data"
    },
    {
     "name": "stdout",
     "output_type": "stream",
     "text": [
      "Raw LLM response: {\"learning_facilitation_score\": 0.78, \"educational_strengths\": [\"Clear explanations\", \"Step-by-step instructions\"], \"areas_for_improvement\": [\"Limited depth of information\", \"No visual aids or examples\", \"Assumes prior knowledge of Uconnect system\"], \"confidence\": 0.81}\n"
     ]
    }
   ],
   "source": [
    "evaluator = LearningFacilitationEvaluator(\n",
    "    llm=HFClient(\n",
    "        model_path=\"meta-llama/Llama-3.2-3B-Instruct\",\n",
    "    ),\n",
    "    prompt_manager=PromptManager(default_type=EvaluationType.LEARNING_FACILITATION)\n",
    ")\n",
    "\n",
    "result = evaluator.evaluate(\n",
    "    question=question,\n",
    "    context=documents,\n",
    "    answer=answer,\n",
    ")"
   ]
  },
  {
   "cell_type": "code",
   "execution_count": 13,
   "metadata": {},
   "outputs": [
    {
     "data": {
      "text/plain": [
       "{'learning_facilitation_score': 0.78,\n",
       " 'educational_strengths': ['Clear explanations', 'Step-by-step instructions'],\n",
       " 'areas_for_improvement': ['Limited depth of information',\n",
       "  'No visual aids or examples',\n",
       "  'Assumes prior knowledge of Uconnect system'],\n",
       " 'confidence': 0.81}"
      ]
     },
     "execution_count": 13,
     "metadata": {},
     "output_type": "execute_result"
    }
   ],
   "source": [
    "result"
   ]
  },
  {
   "cell_type": "code",
   "execution_count": 7,
   "metadata": {},
   "outputs": [
    {
     "name": "stdout",
     "output_type": "stream",
     "text": [
      "The token has not been saved to the git credentials helper. Pass `add_to_git_credential=True` in this function directly or `--add-to-git-credential` if using via `huggingface-cli` if you want to set the git credential as well.\n",
      "Token is valid (permission: write).\n",
      "Your token has been saved to /home/zhang.jinda1/.cache/huggingface/token\n",
      "Login successful\n"
     ]
    },
    {
     "name": "stderr",
     "output_type": "stream",
     "text": [
      "The attention mask is not set and cannot be inferred from input because pad token is same as eos token. As a consequence, you may observe unexpected behavior. Please pass your input's `attention_mask` to obtain reliable results.\n"
     ]
    },
    {
     "name": "stdout",
     "output_type": "stream",
     "text": [
      "Inference time: 11.77 seconds\n",
      "Raw LLM response: ```json\n",
      "{\n",
      "  \"learning_facilitation_score\": 0.85,\n",
      "  \"educational_strengths\": [\"Clear explanations\", \"Encouragement of further inquiry\"],\n",
      "  \"areas_for_improvement\": [\"More examples or analogies\", \"More visual aids\"],\n",
      "  \"confidence\": 0.92\n",
      "}\n",
      "```\n"
     ]
    }
   ],
   "source": [
    "evaluator = LearningFacilitationEvaluator(\n",
    "    llm=HFClient(\n",
    "        model_path=\"deepseek-ai/DeepSeek-R1-Distill-Qwen-1.5B\",\n",
    "    ),\n",
    "    prompt_manager=PromptManager(default_type=EvaluationType.LEARNING_FACILITATION)\n",
    ")\n",
    "\n",
    "result = evaluator.evaluate(\n",
    "    question=question,\n",
    "    context=documents,\n",
    "    answer=answer,\n",
    ")"
   ]
  },
  {
   "cell_type": "code",
   "execution_count": 8,
   "metadata": {},
   "outputs": [
    {
     "data": {
      "text/plain": [
       "{'learning_facilitation_score': 0.85,\n",
       " 'educational_strengths': ['Clear explanations',\n",
       "  'Encouragement of further inquiry'],\n",
       " 'areas_for_improvement': ['More examples or analogies', 'More visual aids'],\n",
       " 'confidence': 0.92}"
      ]
     },
     "execution_count": 8,
     "metadata": {},
     "output_type": "execute_result"
    }
   ],
   "source": [
    "result"
   ]
  }
 ],
 "metadata": {
  "kernelspec": {
   "display_name": "Python 3",
   "language": "python",
   "name": "python3"
  },
  "language_info": {
   "codemirror_mode": {
    "name": "ipython",
    "version": 3
   },
   "file_extension": ".py",
   "mimetype": "text/x-python",
   "name": "python",
   "nbconvert_exporter": "python",
   "pygments_lexer": "ipython3",
   "version": "3.9.19"
  }
 },
 "nbformat": 4,
 "nbformat_minor": 2
}
