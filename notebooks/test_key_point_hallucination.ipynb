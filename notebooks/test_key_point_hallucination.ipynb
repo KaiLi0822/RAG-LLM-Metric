{
 "cells": [
  {
   "cell_type": "code",
   "execution_count": 1,
   "metadata": {
    "ExecuteTime": {
     "end_time": "2025-02-17T17:17:08.507767Z",
     "start_time": "2025-02-17T17:17:05.110480Z"
    }
   },
   "outputs": [],
   "source": [
    "import sys\n",
    "sys.path.append(\"..\")\n",
    "\n",
    "from utils.llm import OpenAIClientLLM\n",
    "from evaluator.evaluators import KeyPointEvaluator"
   ]
  },
  {
   "cell_type": "code",
   "execution_count": 2,
   "metadata": {
    "ExecuteTime": {
     "end_time": "2025-02-17T17:17:11.452959Z",
     "start_time": "2025-02-17T17:17:11.441358Z"
    }
   },
   "outputs": [
    {
     "data": {
      "text/plain": "True"
     },
     "execution_count": 2,
     "metadata": {},
     "output_type": "execute_result"
    }
   ],
   "source": [
    "from dotenv import load_dotenv\n",
    "load_dotenv()"
   ]
  },
  {
   "cell_type": "code",
   "execution_count": 3,
   "metadata": {
    "ExecuteTime": {
     "end_time": "2025-02-17T17:17:13.140623Z",
     "start_time": "2025-02-17T17:17:13.137743Z"
    }
   },
   "outputs": [],
   "source": [
    "key_points = [ \"1. Install the front door frame first.\", \"2. Ensure the windshield is in the “up” position.\", \"3. Carefully place the front door frame in the rubber seal at the top of the windshield and line up the holes for the Torx head fasteners.\", \"4. Swing the frame bracket around the side of the door frame and insert the fasteners from underneath.\", \"5. Tighten with the #T40 Torx head driver until they are snug, being careful not to cross-thread the fasteners or overtighten.\", \"6. Refer to the table for the appropriate torque specifications for the door frame fasteners.\", \"7. Set the rear door frame pin into the hole on top of the body side, just behind the rear door opening.\", \"8. Carefully position the top of the door frame onto the rear belt rail and the rear of the front door frame, making sure the rubber seals lie flat.\", \"9. Ensure the seals are installed correctly to avoid water leaks.\", \"10. Insert the fasteners from underneath.\", \"11. Tighten with the #T40 Torx head driver until they are snug, being careful not to cross-thread the fasteners or overtighten.\", \"12. Refer to the previous table for the appropriate torque specifications for the door frame fasteners.\" ]"
   ]
  },
  {
   "cell_type": "code",
   "execution_count": 4,
   "metadata": {
    "ExecuteTime": {
     "end_time": "2025-02-17T17:17:14.234269Z",
     "start_time": "2025-02-17T17:17:14.229181Z"
    }
   },
   "outputs": [],
   "source": [
    "answer = \"\"\"1. Install the front door frame first. 2. Ensure the windshield is in the “up” position. 3. Carefully place the front door frame in the rubber seal at the top of the windshield and line up the holes for the Torx head fasteners (two for each door). 4. Swing the frame bracket around the side of the door frame and insert the fasteners from underneath. 5. Tighten with the #T40 Torx head driver until they are snug, being careful not to cross-thread the fasteners or overtighten. 6. Refer to the table for the appropriate torque specifications for the door frame fasteners. 7. Set the rear door frame pin into the hole on top of the body side, just behind the rear door opening. 8. Carefully position the top of the door frame onto the rear belt rail and the rear of the front door frame, making sure the rubber seals lie flat. 9. Ensure the seals are installed correctly to avoid water leaks. 10. Insert the fasteners from underneath. 11. Tighten with the #T40 Torx head driver until they are snug, being careful not to cross-thread the fasteners or overtighten. 12. Refer to the previous table for the appropriate torque specifications for the door frame fasteners.\"\"\""
   ]
  },
  {
   "cell_type": "code",
   "execution_count": 6,
   "metadata": {
    "ExecuteTime": {
     "end_time": "2025-02-17T17:17:47.501680Z",
     "start_time": "2025-02-17T17:17:44.802849Z"
    }
   },
   "outputs": [
    {
     "data": {
      "text/plain": "{'completeness_score': 1.0,\n 'irrelevant_score': 0.0,\n 'hallucination_score': 0.0,\n 'raw_output': {'complete_ids': [1, 2, 3, 4, 5, 6, 7, 8, 9, 10, 11, 12],\n  'irrelevant_ids': [],\n  'hallucinate_ids': [],\n  'reasons': 'The generated answer covers all the key points in a step-by-step manner, providing detailed instructions for installing the front and rear door frames, including the proper positioning, fastening, and torque specifications. Every key point is addressed accurately and consistently with the standard answer, leaving no key points irrelevant or incorrectly addressed.'}}"
     },
     "execution_count": 6,
     "metadata": {},
     "output_type": "execute_result"
    }
   ],
   "source": [
    "evaluator = KeyPointEvaluator(\n",
    "    llm_class=OpenAIClientLLM,\n",
    ")\n",
    "\n",
    "result = evaluator.evaluate(\n",
    "    answer=answer,\n",
    "    key_points=key_points\n",
    ")\n",
    "result"
   ]
  },
  {
   "cell_type": "code",
   "execution_count": null,
   "metadata": {},
   "outputs": [],
   "source": []
  }
 ],
 "metadata": {
  "kernelspec": {
   "display_name": ".venv",
   "language": "python",
   "name": "python3"
  },
  "language_info": {
   "codemirror_mode": {
    "name": "ipython",
    "version": 3
   },
   "file_extension": ".py",
   "mimetype": "text/x-python",
   "name": "python",
   "nbconvert_exporter": "python",
   "pygments_lexer": "ipython3",
   "version": "3.11.4"
  }
 },
 "nbformat": 4,
 "nbformat_minor": 2
}
