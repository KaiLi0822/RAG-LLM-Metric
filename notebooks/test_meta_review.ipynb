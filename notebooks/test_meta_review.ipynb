{
 "cells": [
  {
   "cell_type": "code",
   "execution_count": 1,
   "metadata": {},
   "outputs": [
    {
     "name": "stderr",
     "output_type": "stream",
     "text": [
      "/home/osx/anaconda3/lib/python3.10/site-packages/torchvision/io/image.py:13: UserWarning: Failed to load image Python extension: 'libc10_cuda.so: cannot open shared object file: No such file or directory'If you don't plan on using image functionality from `torchvision.io`, you can ignore this warning. Otherwise, there might be something wrong with your environment. Did you have `libjpeg` or `libpng` installed before building `torchvision` from source?\n",
      "  warn(\n",
      "/home/osx/anaconda3/lib/python3.10/site-packages/torchvision/datapoints/__init__.py:12: UserWarning: The torchvision.datapoints and torchvision.transforms.v2 namespaces are still Beta. While we do not expect major breaking changes, some APIs may still change according to user feedback. Please submit any feedback you may have in this issue: https://github.com/pytorch/vision/issues/6753, and you can also check out https://github.com/pytorch/vision/issues/7319 to learn more about the APIs that we suspect might involve future changes. You can silence this warning by calling torchvision.disable_beta_transforms_warning().\n",
      "  warnings.warn(_BETA_TRANSFORMS_WARNING)\n",
      "/home/osx/anaconda3/lib/python3.10/site-packages/torchvision/transforms/v2/__init__.py:54: UserWarning: The torchvision.datapoints and torchvision.transforms.v2 namespaces are still Beta. While we do not expect major breaking changes, some APIs may still change according to user feedback. Please submit any feedback you may have in this issue: https://github.com/pytorch/vision/issues/6753, and you can also check out https://github.com/pytorch/vision/issues/7319 to learn more about the APIs that we suspect might involve future changes. You can silence this warning by calling torchvision.disable_beta_transforms_warning().\n",
      "  warnings.warn(_BETA_TRANSFORMS_WARNING)\n"
     ]
    }
   ],
   "source": [
    "from dotenv import load_dotenv\n",
    "load_dotenv()\n",
    "import sys\n",
    "sys.path.append(\"..\")\n",
    "\n",
    "from utils.llm import OpenAIClientLLM\n",
    "from evaluator.prompt_manager import EvalPromptManager, EvaluationType\n",
    "from agent.MetaReviewAgent import meta_reviewer_classes"
   ]
  },
  {
   "cell_type": "code",
   "execution_count": 2,
   "metadata": {},
   "outputs": [
    {
     "name": "stdout",
     "output_type": "stream",
     "text": [
      "{'learning_facilitation_score': 0.75, 'educational_strengths': ['Good explanation', 'Clear clarity'], 'areas_for_improvement': ['Needs more examples', 'Deeper information required'], 'confidence': 0.85}\n"
     ]
    }
   ],
   "source": [
    "llm = OpenAIClientLLM()\n",
    "prompt_manager = EvalPromptManager()\n",
    "MetaReviewerLearningFacilitation = meta_reviewer_classes[\"LEARNING_FACILITATION\"]\n",
    "meta_reviewer = MetaReviewerLearningFacilitation(llm, prompt_manager)\n",
    "scores = meta_reviewer.get_meta_scores(0.8, \"Good explanation\", 0.7, \"Needs more examples\")\n",
    "print(scores)"
   ]
  },
  {
   "cell_type": "code",
   "execution_count": 3,
   "metadata": {},
   "outputs": [
    {
     "data": {
      "text/plain": [
       "{'learning_facilitation_score': 0.75,\n",
       " 'educational_strengths': ['Good explanation', 'Clear clarity'],\n",
       " 'areas_for_improvement': ['Needs more examples',\n",
       "  'Deeper information required'],\n",
       " 'confidence': 0.85}"
      ]
     },
     "execution_count": 3,
     "metadata": {},
     "output_type": "execute_result"
    }
   ],
   "source": [
    "scores"
   ]
  },
  {
   "cell_type": "code",
   "execution_count": 4,
   "metadata": {},
   "outputs": [
    {
     "name": "stdout",
     "output_type": "stream",
     "text": [
      "{'engagement_score': 0.15, 'engaging_elements': ['Good explanation'], 'suggestions_for_improvement': ['Add more examples', 'Incorporate captivating introduction', 'Use vivid language or imagery', 'Include interesting facts or perspectives', 'Improve narrative flow'], 'confidence': 0.6}\n"
     ]
    }
   ],
   "source": [
    "llm = OpenAIClientLLM()\n",
    "prompt_manager = EvalPromptManager()\n",
    "MetaReviewerLearningFacilitation = meta_reviewer_classes[\"ENGAGEMENT_INDEX\"]\n",
    "meta_reviewer = MetaReviewerLearningFacilitation(llm, prompt_manager)\n",
    "scores = meta_reviewer.get_meta_scores(0.1, \"Good explanation\", 0.2, \"Needs more examples\")\n",
    "print(scores)"
   ]
  }
 ],
 "metadata": {
  "kernelspec": {
   "display_name": "base",
   "language": "python",
   "name": "python3"
  },
  "language_info": {
   "codemirror_mode": {
    "name": "ipython",
    "version": 3
   },
   "file_extension": ".py",
   "mimetype": "text/x-python",
   "name": "python",
   "nbconvert_exporter": "python",
   "pygments_lexer": "ipython3",
   "version": "3.10.13"
  }
 },
 "nbformat": 4,
 "nbformat_minor": 2
}
