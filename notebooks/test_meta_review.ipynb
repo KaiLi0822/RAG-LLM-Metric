{
 "cells": [
  {
   "cell_type": "code",
   "execution_count": null,
   "metadata": {
    "vscode": {
     "languageId": "plaintext"
    }
   },
   "outputs": [],
   "source": [
    "from dotenv import load_dotenv\n",
    "load_dotenv()\n",
    "llm=OpenAIClientLLM(\n",
    "    model=\"gpt-4o\",\n",
    "    base_url='https://api.openai.com/v1/'\n",
    ")\n",
    "prompt_manager = PromptManager(\n",
    "    default_type=EvaluationType.LEARNING_FACILITATION)\n",
    "meta_reviewer = MetaReviewerLearningFacilitation(llm, prompt_manager)\n",
    "\n",
    "score1 = 0.8\n",
    "reason1 = \"Clear explanations and good examples.\"\n",
    "score2 = 0.7\n",
    "reason2 = \"Needs more depth and visual aids.\"\n",
    "\n",
    "meta_scores = meta_reviewer.get_meta_scores(\n",
    "    score1, reason1, score2, reason2)\n",
    "logger.info(meta_scores)"
   ]
  }
 ],
 "metadata": {
  "language_info": {
   "name": "python"
  }
 },
 "nbformat": 4,
 "nbformat_minor": 2
}
