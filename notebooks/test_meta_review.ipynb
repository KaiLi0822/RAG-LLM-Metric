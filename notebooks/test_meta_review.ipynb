{
 "cells": [
  {
   "cell_type": "code",
   "execution_count": 3,
   "metadata": {},
   "outputs": [],
   "source": [
    "import sys\n",
    "sys.path.append(\"..\")\n",
    "from evaluator.llm import OpenAIClientLLM\n",
    "from evaluator.prompt_manager import PromptManager, EvaluationType\n",
    "from evaluator.meta_review_agent import MetaReviewerLearningFacilitationAgent\n",
    "import json\n",
    "from dotenv import load_dotenv"
   ]
  },
  {
   "cell_type": "code",
   "execution_count": 4,
   "metadata": {},
   "outputs": [
    {
     "name": "stdout",
     "output_type": "stream",
     "text": [
      "{'learning_facilitation_score': 0.75, 'educational_strengths': ['Clear explanations', 'Good examples'], 'areas_for_improvement': ['More depth needed', 'Add visual aids'], 'confidence': 0.85}\n"
     ]
    }
   ],
   "source": [
    "load_dotenv()\n",
    "llm=OpenAIClientLLM(\n",
    "    model=\"gpt-4o\",\n",
    "    base_url='https://api.openai.com/v1/'\n",
    ")\n",
    "prompt_manager = PromptManager(\n",
    "    default_type=EvaluationType.LEARNING_FACILITATION)\n",
    "meta_reviewer = MetaReviewerLearningFacilitationAgent(llm, prompt_manager)\n",
    "\n",
    "score1 = 0.8\n",
    "reason1 = \"Clear explanations and good examples.\"\n",
    "score2 = 0.7\n",
    "reason2 = \"Needs more depth and visual aids.\"\n",
    "\n",
    "meta_scores = meta_reviewer.get_meta_scores(\n",
    "    score1, reason1, score2, reason2)\n",
    "print(meta_scores)"
   ]
  }
 ],
 "metadata": {
  "kernelspec": {
   "display_name": "base",
   "language": "python",
   "name": "python3"
  },
  "language_info": {
   "codemirror_mode": {
    "name": "ipython",
    "version": 3
   },
   "file_extension": ".py",
   "mimetype": "text/x-python",
   "name": "python",
   "nbconvert_exporter": "python",
   "pygments_lexer": "ipython3",
   "version": "3.10.13"
  }
 },
 "nbformat": 4,
 "nbformat_minor": 2
}
